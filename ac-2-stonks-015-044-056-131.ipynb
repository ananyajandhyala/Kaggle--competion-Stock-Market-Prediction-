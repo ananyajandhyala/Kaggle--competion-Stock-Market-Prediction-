{
 "cells": [
  {
   "cell_type": "code",
   "execution_count": 1,
   "id": "930fab70",
   "metadata": {
    "_cell_guid": "b1076dfc-b9ad-4769-8c92-a6c4dae69d19",
    "_uuid": "8f2839f25d086af736a60e9eeb907d3b93b6e0e5",
    "execution": {
     "iopub.execute_input": "2022-10-16T16:37:38.583627Z",
     "iopub.status.busy": "2022-10-16T16:37:38.582763Z",
     "iopub.status.idle": "2022-10-16T16:37:38.597947Z",
     "shell.execute_reply": "2022-10-16T16:37:38.596802Z"
    },
    "papermill": {
     "duration": 0.039056,
     "end_time": "2022-10-16T16:37:38.600311",
     "exception": false,
     "start_time": "2022-10-16T16:37:38.561255",
     "status": "completed"
    },
    "tags": []
   },
   "outputs": [
    {
     "name": "stdout",
     "output_type": "stream",
     "text": [
      "/kaggle/input/data-analytics-ue20cs312/sample_submission.csv\n",
      "/kaggle/input/data-analytics-ue20cs312/train.csv\n",
      "/kaggle/input/data-analytics-ue20cs312/test.csv\n"
     ]
    }
   ],
   "source": [
    "# This Python 3 environment comes with many helpful analytics libraries installed\n",
    "# It is defined by the kaggle/python Docker image: https://github.com/kaggle/docker-python\n",
    "# For example, here's several helpful packages to load\n",
    "\n",
    "import numpy as np # linear algebra\n",
    "import pandas as pd # data processing, CSV file I/O (e.g. pd.read_csv)\n",
    "\n",
    "# Input data files are available in the read-only \"../input/\" directory\n",
    "# For example, running this (by clicking run or pressing Shift+Enter) will list all files under the input directory\n",
    "\n",
    "import os\n",
    "for dirname, _, filenames in os.walk('/kaggle/input'):\n",
    "    for filename in filenames:\n",
    "        print(os.path.join(dirname, filename))\n",
    "\n",
    "# You can write up to 20GB to the current directory (/kaggle/working/) that gets preserved as output when you create a version using \"Save & Run All\" \n",
    "# You can also write temporary files to /kaggle/temp/, but they won't be saved outside of the current session"
   ]
  },
  {
   "cell_type": "markdown",
   "id": "f2792295",
   "metadata": {
    "papermill": {
     "duration": 0.01696,
     "end_time": "2022-10-16T16:37:38.633477",
     "exception": false,
     "start_time": "2022-10-16T16:37:38.616517",
     "status": "completed"
    },
    "tags": []
   },
   "source": [
    " **Data Analytics (UE20CS312) Assignment\n",
    "   Kaggle contest for the Fall 2022 Data Analytics course at PES University.**\n",
    "\n",
    " **EDA on Time Series Stock Market Prediction dataset**"
   ]
  },
  {
   "cell_type": "code",
   "execution_count": 2,
   "id": "319abb93",
   "metadata": {
    "execution": {
     "iopub.execute_input": "2022-10-16T16:37:38.668002Z",
     "iopub.status.busy": "2022-10-16T16:37:38.667222Z",
     "iopub.status.idle": "2022-10-16T16:37:38.691936Z",
     "shell.execute_reply": "2022-10-16T16:37:38.691052Z"
    },
    "papermill": {
     "duration": 0.044764,
     "end_time": "2022-10-16T16:37:38.694513",
     "exception": false,
     "start_time": "2022-10-16T16:37:38.649749",
     "status": "completed"
    },
    "tags": []
   },
   "outputs": [],
   "source": [
    "df = pd.read_csv('../input/data-analytics-ue20cs312/train.csv')\n",
    "df.set_index('Date', inplace=True)"
   ]
  },
  {
   "cell_type": "code",
   "execution_count": 3,
   "id": "36f25567",
   "metadata": {
    "execution": {
     "iopub.execute_input": "2022-10-16T16:37:38.728794Z",
     "iopub.status.busy": "2022-10-16T16:37:38.728056Z",
     "iopub.status.idle": "2022-10-16T16:37:38.740669Z",
     "shell.execute_reply": "2022-10-16T16:37:38.739867Z"
    },
    "papermill": {
     "duration": 0.032306,
     "end_time": "2022-10-16T16:37:38.743020",
     "exception": false,
     "start_time": "2022-10-16T16:37:38.710714",
     "status": "completed"
    },
    "tags": []
   },
   "outputs": [],
   "source": [
    "test = pd.read_csv('../input/data-analytics-ue20cs312/test.csv')\n",
    "test.set_index('Date', inplace=True)\n",
    "test = test.iloc[:,0:-1]"
   ]
  },
  {
   "cell_type": "code",
   "execution_count": 4,
   "id": "524a030c",
   "metadata": {
    "execution": {
     "iopub.execute_input": "2022-10-16T16:37:38.783470Z",
     "iopub.status.busy": "2022-10-16T16:37:38.782977Z",
     "iopub.status.idle": "2022-10-16T16:37:38.814139Z",
     "shell.execute_reply": "2022-10-16T16:37:38.812916Z"
    },
    "papermill": {
     "duration": 0.055905,
     "end_time": "2022-10-16T16:37:38.817581",
     "exception": false,
     "start_time": "2022-10-16T16:37:38.761676",
     "status": "completed"
    },
    "tags": []
   },
   "outputs": [
    {
     "data": {
      "text/html": [
       "<div>\n",
       "<style scoped>\n",
       "    .dataframe tbody tr th:only-of-type {\n",
       "        vertical-align: middle;\n",
       "    }\n",
       "\n",
       "    .dataframe tbody tr th {\n",
       "        vertical-align: top;\n",
       "    }\n",
       "\n",
       "    .dataframe thead th {\n",
       "        text-align: right;\n",
       "    }\n",
       "</style>\n",
       "<table border=\"1\" class=\"dataframe\">\n",
       "  <thead>\n",
       "    <tr style=\"text-align: right;\">\n",
       "      <th></th>\n",
       "      <th>Open</th>\n",
       "      <th>High</th>\n",
       "      <th>Low</th>\n",
       "      <th>Close</th>\n",
       "      <th>Volume</th>\n",
       "    </tr>\n",
       "    <tr>\n",
       "      <th>Date</th>\n",
       "      <th></th>\n",
       "      <th></th>\n",
       "      <th></th>\n",
       "      <th></th>\n",
       "      <th></th>\n",
       "    </tr>\n",
       "  </thead>\n",
       "  <tbody>\n",
       "    <tr>\n",
       "      <th>2016-01-04</th>\n",
       "      <td>1099.59</td>\n",
       "      <td>1110.75</td>\n",
       "      <td>1093.85</td>\n",
       "      <td>1109.64</td>\n",
       "      <td>66545000</td>\n",
       "    </tr>\n",
       "    <tr>\n",
       "      <th>2016-01-05</th>\n",
       "      <td>1117.47</td>\n",
       "      <td>1130.57</td>\n",
       "      <td>1112.75</td>\n",
       "      <td>1125.85</td>\n",
       "      <td>41227200</td>\n",
       "    </tr>\n",
       "    <tr>\n",
       "      <th>2016-01-06</th>\n",
       "      <td>1116.63</td>\n",
       "      <td>1138.68</td>\n",
       "      <td>1116.10</td>\n",
       "      <td>1133.04</td>\n",
       "      <td>42316800</td>\n",
       "    </tr>\n",
       "    <tr>\n",
       "      <th>2016-01-07</th>\n",
       "      <td>1122.00</td>\n",
       "      <td>1149.76</td>\n",
       "      <td>1117.56</td>\n",
       "      <td>1143.37</td>\n",
       "      <td>64899600</td>\n",
       "    </tr>\n",
       "    <tr>\n",
       "      <th>2016-01-08</th>\n",
       "      <td>1145.64</td>\n",
       "      <td>1149.96</td>\n",
       "      <td>1120.93</td>\n",
       "      <td>1122.88</td>\n",
       "      <td>52138900</td>\n",
       "    </tr>\n",
       "    <tr>\n",
       "      <th>2016-01-11</th>\n",
       "      <td>1126.04</td>\n",
       "      <td>1134.69</td>\n",
       "      <td>1120.15</td>\n",
       "      <td>1130.93</td>\n",
       "      <td>43684900</td>\n",
       "    </tr>\n",
       "    <tr>\n",
       "      <th>2016-01-12</th>\n",
       "      <td>1134.63</td>\n",
       "      <td>1140.91</td>\n",
       "      <td>1122.60</td>\n",
       "      <td>1127.71</td>\n",
       "      <td>42286900</td>\n",
       "    </tr>\n",
       "    <tr>\n",
       "      <th>2016-01-13</th>\n",
       "      <td>1130.63</td>\n",
       "      <td>1131.98</td>\n",
       "      <td>1098.54</td>\n",
       "      <td>1100.22</td>\n",
       "      <td>51882600</td>\n",
       "    </tr>\n",
       "    <tr>\n",
       "      <th>2016-01-14</th>\n",
       "      <td>1102.76</td>\n",
       "      <td>1126.36</td>\n",
       "      <td>1095.25</td>\n",
       "      <td>1117.71</td>\n",
       "      <td>46357200</td>\n",
       "    </tr>\n",
       "    <tr>\n",
       "      <th>2016-01-15</th>\n",
       "      <td>1093.31</td>\n",
       "      <td>1108.41</td>\n",
       "      <td>1087.70</td>\n",
       "      <td>1098.22</td>\n",
       "      <td>73740300</td>\n",
       "    </tr>\n",
       "  </tbody>\n",
       "</table>\n",
       "</div>"
      ],
      "text/plain": [
       "               Open     High      Low    Close    Volume\n",
       "Date                                                    \n",
       "2016-01-04  1099.59  1110.75  1093.85  1109.64  66545000\n",
       "2016-01-05  1117.47  1130.57  1112.75  1125.85  41227200\n",
       "2016-01-06  1116.63  1138.68  1116.10  1133.04  42316800\n",
       "2016-01-07  1122.00  1149.76  1117.56  1143.37  64899600\n",
       "2016-01-08  1145.64  1149.96  1120.93  1122.88  52138900\n",
       "2016-01-11  1126.04  1134.69  1120.15  1130.93  43684900\n",
       "2016-01-12  1134.63  1140.91  1122.60  1127.71  42286900\n",
       "2016-01-13  1130.63  1131.98  1098.54  1100.22  51882600\n",
       "2016-01-14  1102.76  1126.36  1095.25  1117.71  46357200\n",
       "2016-01-15  1093.31  1108.41  1087.70  1098.22  73740300"
      ]
     },
     "execution_count": 4,
     "metadata": {},
     "output_type": "execute_result"
    }
   ],
   "source": [
    "df.head(10)"
   ]
  },
  {
   "cell_type": "code",
   "execution_count": 5,
   "id": "b3559b61",
   "metadata": {
    "execution": {
     "iopub.execute_input": "2022-10-16T16:37:38.855110Z",
     "iopub.status.busy": "2022-10-16T16:37:38.854421Z",
     "iopub.status.idle": "2022-10-16T16:37:38.862832Z",
     "shell.execute_reply": "2022-10-16T16:37:38.862065Z"
    },
    "papermill": {
     "duration": 0.027926,
     "end_time": "2022-10-16T16:37:38.864841",
     "exception": false,
     "start_time": "2022-10-16T16:37:38.836915",
     "status": "completed"
    },
    "tags": []
   },
   "outputs": [
    {
     "data": {
      "text/plain": [
       "Open      0\n",
       "High      0\n",
       "Low       0\n",
       "Close     0\n",
       "Volume    0\n",
       "dtype: int64"
      ]
     },
     "execution_count": 5,
     "metadata": {},
     "output_type": "execute_result"
    }
   ],
   "source": [
    "#checking for null values \n",
    "df.isna().sum()"
   ]
  },
  {
   "cell_type": "markdown",
   "id": "e60396ed",
   "metadata": {
    "papermill": {
     "duration": 0.016122,
     "end_time": "2022-10-16T16:37:38.897535",
     "exception": false,
     "start_time": "2022-10-16T16:37:38.881413",
     "status": "completed"
    },
    "tags": []
   },
   "source": [
    "**There are no null values**"
   ]
  },
  {
   "cell_type": "code",
   "execution_count": 6,
   "id": "9bfe8584",
   "metadata": {
    "execution": {
     "iopub.execute_input": "2022-10-16T16:37:38.935934Z",
     "iopub.status.busy": "2022-10-16T16:37:38.935148Z",
     "iopub.status.idle": "2022-10-16T16:37:38.949153Z",
     "shell.execute_reply": "2022-10-16T16:37:38.948256Z"
    },
    "papermill": {
     "duration": 0.037472,
     "end_time": "2022-10-16T16:37:38.951450",
     "exception": false,
     "start_time": "2022-10-16T16:37:38.913978",
     "status": "completed"
    },
    "tags": []
   },
   "outputs": [
    {
     "data": {
      "text/plain": [
       "0"
      ]
     },
     "execution_count": 6,
     "metadata": {},
     "output_type": "execute_result"
    }
   ],
   "source": [
    "#Checking for duplicate values \n",
    "df.duplicated().sum()"
   ]
  },
  {
   "cell_type": "markdown",
   "id": "f958506d",
   "metadata": {
    "papermill": {
     "duration": 0.017288,
     "end_time": "2022-10-16T16:37:38.988198",
     "exception": false,
     "start_time": "2022-10-16T16:37:38.970910",
     "status": "completed"
    },
    "tags": []
   },
   "source": [
    "**There are no duplicate values**"
   ]
  },
  {
   "cell_type": "code",
   "execution_count": 7,
   "id": "ee62cb99",
   "metadata": {
    "execution": {
     "iopub.execute_input": "2022-10-16T16:37:39.024981Z",
     "iopub.status.busy": "2022-10-16T16:37:39.024218Z",
     "iopub.status.idle": "2022-10-16T16:37:40.254022Z",
     "shell.execute_reply": "2022-10-16T16:37:40.252954Z"
    },
    "papermill": {
     "duration": 1.250641,
     "end_time": "2022-10-16T16:37:40.256665",
     "exception": false,
     "start_time": "2022-10-16T16:37:39.006024",
     "status": "completed"
    },
    "tags": []
   },
   "outputs": [
    {
     "data": {
      "image/png": "[encoded data removed]",
      "text/plain": [
       "<Figure size 720x288 with 1 Axes>"
      ]
     },
     "metadata": {},
     "output_type": "display_data"
    }
   ],
   "source": [
    "#To check the trend of the data and seasonality component (variations in a time series)\n",
    "import matplotlib.pyplot as plt\n",
    "import seaborn as sns\n",
    "sns.set(rc={'figure.figsize':(10, 4)})\n",
    "df['Open'].plot(linewidth=0.5);\n"
   ]
  },
  {
   "cell_type": "code",
   "execution_count": 8,
   "id": "80713e93",
   "metadata": {
    "execution": {
     "iopub.execute_input": "2022-10-16T16:37:40.292156Z",
     "iopub.status.busy": "2022-10-16T16:37:40.291747Z",
     "iopub.status.idle": "2022-10-16T16:37:40.535113Z",
     "shell.execute_reply": "2022-10-16T16:37:40.533885Z"
    },
    "papermill": {
     "duration": 0.264059,
     "end_time": "2022-10-16T16:37:40.537786",
     "exception": false,
     "start_time": "2022-10-16T16:37:40.273727",
     "status": "completed"
    },
    "tags": []
   },
   "outputs": [
    {
     "data": {
      "image/png": "[encoded data removed]",
      "text/plain": [
       "<Figure size 720x288 with 1 Axes>"
      ]
     },
     "metadata": {},
     "output_type": "display_data"
    }
   ],
   "source": [
    "sns.set(rc={'figure.figsize':(10, 4)})\n",
    "df['High'].plot(linewidth=0.5);"
   ]
  },
  {
   "cell_type": "code",
   "execution_count": 9,
   "id": "05793583",
   "metadata": {
    "execution": {
     "iopub.execute_input": "2022-10-16T16:37:40.575251Z",
     "iopub.status.busy": "2022-10-16T16:37:40.574503Z",
     "iopub.status.idle": "2022-10-16T16:37:40.843827Z",
     "shell.execute_reply": "2022-10-16T16:37:40.842564Z"
    },
    "papermill": {
     "duration": 0.292288,
     "end_time": "2022-10-16T16:37:40.847739",
     "exception": false,
     "start_time": "2022-10-16T16:37:40.555451",
     "status": "completed"
    },
    "tags": []
   },
   "outputs": [
    {
     "data": {
      "image/png": "[encoded data removed]",
      "text/plain": [
       "<Figure size 720x288 with 1 Axes>"
      ]
     },
     "metadata": {},
     "output_type": "display_data"
    }
   ],
   "source": [
    "sns.set(rc={'figure.figsize':(10, 4)})\n",
    "df['Low'].plot(linewidth=0.5);"
   ]
  },
  {
   "cell_type": "markdown",
   "id": "ed9a5fe6",
   "metadata": {
    "papermill": {
     "duration": 0.01808,
     "end_time": "2022-10-16T16:37:40.886271",
     "exception": false,
     "start_time": "2022-10-16T16:37:40.868191",
     "status": "completed"
    },
    "tags": []
   },
   "source": [
    " **Observation - Upward trend and multiplicative seasonality component** "
   ]
  },
  {
   "cell_type": "code",
   "execution_count": 10,
   "id": "95802050",
   "metadata": {
    "execution": {
     "iopub.execute_input": "2022-10-16T16:37:40.925792Z",
     "iopub.status.busy": "2022-10-16T16:37:40.925092Z",
     "iopub.status.idle": "2022-10-16T16:37:41.247502Z",
     "shell.execute_reply": "2022-10-16T16:37:41.246414Z"
    },
    "papermill": {
     "duration": 0.346236,
     "end_time": "2022-10-16T16:37:41.251101",
     "exception": false,
     "start_time": "2022-10-16T16:37:40.904865",
     "status": "completed"
    },
    "tags": []
   },
   "outputs": [
    {
     "data": {
      "image/png": "[encoded data removed]",
      "text/plain": [
       "<Figure size 1728x504 with 1 Axes>"
      ]
     },
     "metadata": {},
     "output_type": "display_data"
    }
   ],
   "source": [
    "sns.set(rc={'figure.figsize':(24, 7)})\n",
    "df['Volume'].plot(linewidth=0.5);"
   ]
  },
  {
   "cell_type": "markdown",
   "id": "72a056a5",
   "metadata": {
    "papermill": {
     "duration": 0.019579,
     "end_time": "2022-10-16T16:37:41.290685",
     "exception": false,
     "start_time": "2022-10-16T16:37:41.271106",
     "status": "completed"
    },
    "tags": []
   },
   "source": [
    "**As there are spikes at similar intervals ,there is a seasonality component** "
   ]
  },
  {
   "cell_type": "code",
   "execution_count": 11,
   "id": "6e1e4630",
   "metadata": {
    "execution": {
     "iopub.execute_input": "2022-10-16T16:37:41.331773Z",
     "iopub.status.busy": "2022-10-16T16:37:41.331385Z",
     "iopub.status.idle": "2022-10-16T16:37:41.346355Z",
     "shell.execute_reply": "2022-10-16T16:37:41.345281Z"
    },
    "papermill": {
     "duration": 0.038209,
     "end_time": "2022-10-16T16:37:41.348772",
     "exception": false,
     "start_time": "2022-10-16T16:37:41.310563",
     "status": "completed"
    },
    "tags": []
   },
   "outputs": [
    {
     "data": {
      "text/html": [
       "<div>\n",
       "<style scoped>\n",
       "    .dataframe tbody tr th:only-of-type {\n",
       "        vertical-align: middle;\n",
       "    }\n",
       "\n",
       "    .dataframe tbody tr th {\n",
       "        vertical-align: top;\n",
       "    }\n",
       "\n",
       "    .dataframe thead th {\n",
       "        text-align: right;\n",
       "    }\n",
       "</style>\n",
       "<table border=\"1\" class=\"dataframe\">\n",
       "  <thead>\n",
       "    <tr style=\"text-align: right;\">\n",
       "      <th></th>\n",
       "      <th>Open</th>\n",
       "      <th>High</th>\n",
       "      <th>Low</th>\n",
       "      <th>Close</th>\n",
       "      <th>Volume</th>\n",
       "    </tr>\n",
       "  </thead>\n",
       "  <tbody>\n",
       "    <tr>\n",
       "      <th>Open</th>\n",
       "      <td>1.000000</td>\n",
       "      <td>0.999716</td>\n",
       "      <td>0.999748</td>\n",
       "      <td>0.999455</td>\n",
       "      <td>-0.173859</td>\n",
       "    </tr>\n",
       "    <tr>\n",
       "      <th>High</th>\n",
       "      <td>0.999716</td>\n",
       "      <td>1.000000</td>\n",
       "      <td>0.999541</td>\n",
       "      <td>0.999705</td>\n",
       "      <td>-0.166732</td>\n",
       "    </tr>\n",
       "    <tr>\n",
       "      <th>Low</th>\n",
       "      <td>0.999748</td>\n",
       "      <td>0.999541</td>\n",
       "      <td>1.000000</td>\n",
       "      <td>0.999692</td>\n",
       "      <td>-0.182352</td>\n",
       "    </tr>\n",
       "    <tr>\n",
       "      <th>Close</th>\n",
       "      <td>0.999455</td>\n",
       "      <td>0.999705</td>\n",
       "      <td>0.999692</td>\n",
       "      <td>1.000000</td>\n",
       "      <td>-0.175132</td>\n",
       "    </tr>\n",
       "    <tr>\n",
       "      <th>Volume</th>\n",
       "      <td>-0.173859</td>\n",
       "      <td>-0.166732</td>\n",
       "      <td>-0.182352</td>\n",
       "      <td>-0.175132</td>\n",
       "      <td>1.000000</td>\n",
       "    </tr>\n",
       "  </tbody>\n",
       "</table>\n",
       "</div>"
      ],
      "text/plain": [
       "            Open      High       Low     Close    Volume\n",
       "Open    1.000000  0.999716  0.999748  0.999455 -0.173859\n",
       "High    0.999716  1.000000  0.999541  0.999705 -0.166732\n",
       "Low     0.999748  0.999541  1.000000  0.999692 -0.182352\n",
       "Close   0.999455  0.999705  0.999692  1.000000 -0.175132\n",
       "Volume -0.173859 -0.166732 -0.182352 -0.175132  1.000000"
      ]
     },
     "execution_count": 11,
     "metadata": {},
     "output_type": "execute_result"
    }
   ],
   "source": [
    "df.corr()"
   ]
  },
  {
   "cell_type": "markdown",
   "id": "71f49310",
   "metadata": {
    "papermill": {
     "duration": 0.019752,
     "end_time": "2022-10-16T16:37:41.388654",
     "exception": false,
     "start_time": "2022-10-16T16:37:41.368902",
     "status": "completed"
    },
    "tags": []
   },
   "source": [
    "**As the correlation coefficient between 'Open','High','Low'' is fairly positive, implies they are highly related,so a linear regression is used.**\n"
   ]
  },
  {
   "cell_type": "code",
   "execution_count": 12,
   "id": "eb7829fb",
   "metadata": {
    "execution": {
     "iopub.execute_input": "2022-10-16T16:37:41.431106Z",
     "iopub.status.busy": "2022-10-16T16:37:41.430300Z",
     "iopub.status.idle": "2022-10-16T16:37:42.065931Z",
     "shell.execute_reply": "2022-10-16T16:37:42.064828Z"
    },
    "papermill": {
     "duration": 0.659289,
     "end_time": "2022-10-16T16:37:42.068156",
     "exception": false,
     "start_time": "2022-10-16T16:37:41.408867",
     "status": "completed"
    },
    "tags": []
   },
   "outputs": [
    {
     "data": {
      "image/png": "[encoded data removed]",
      "text/plain": [
       "<Figure size 1728x504 with 1 Axes>"
      ]
     },
     "metadata": {},
     "output_type": "display_data"
    }
   ],
   "source": [
    "# regplot with a linar regression fit pattern\n",
    "import seaborn as sns\n",
    "\n",
    "# use the function regplot to make a scatterplot\n",
    "sns.regplot(x=df[\"Open\"], y=df[\"Close\"])\n",
    "\n",
    "plt.savefig(\"Plotting_Correlation_Scatterplot_With_Regression_Fit.jpg\")"
   ]
  },
  {
   "cell_type": "code",
   "execution_count": 13,
   "id": "971f839e",
   "metadata": {
    "execution": {
     "iopub.execute_input": "2022-10-16T16:37:42.111415Z",
     "iopub.status.busy": "2022-10-16T16:37:42.111016Z",
     "iopub.status.idle": "2022-10-16T16:37:42.723063Z",
     "shell.execute_reply": "2022-10-16T16:37:42.722040Z"
    },
    "papermill": {
     "duration": 0.637249,
     "end_time": "2022-10-16T16:37:42.726399",
     "exception": false,
     "start_time": "2022-10-16T16:37:42.089150",
     "status": "completed"
    },
    "tags": []
   },
   "outputs": [
    {
     "data": {
      "image/png": "[encoded data removed]",
      "text/plain": [
       "<Figure size 1728x504 with 1 Axes>"
      ]
     },
     "metadata": {},
     "output_type": "display_data"
    }
   ],
   "source": [
    "sns.regplot(x=df[\"Low\"], y=df[\"Volume\"])\n",
    "\n",
    "plt.savefig(\"Plotting_Correlation_Scatterplot_With_Regression_Fit.jpg\")"
   ]
  },
  {
   "cell_type": "code",
   "execution_count": 14,
   "id": "f40cf0a1",
   "metadata": {
    "execution": {
     "iopub.execute_input": "2022-10-16T16:37:42.773798Z",
     "iopub.status.busy": "2022-10-16T16:37:42.773087Z",
     "iopub.status.idle": "2022-10-16T16:37:43.044644Z",
     "shell.execute_reply": "2022-10-16T16:37:43.043858Z"
    },
    "papermill": {
     "duration": 0.297716,
     "end_time": "2022-10-16T16:37:43.046880",
     "exception": false,
     "start_time": "2022-10-16T16:37:42.749164",
     "status": "completed"
    },
    "tags": []
   },
   "outputs": [
    {
     "data": {
      "text/plain": [
       "<AxesSubplot:>"
      ]
     },
     "execution_count": 14,
     "metadata": {},
     "output_type": "execute_result"
    },
    {
     "data": {
      "image/png": "[encoded data removed]",
      "text/plain": [
       "<Figure size 864x720 with 1 Axes>"
      ]
     },
     "metadata": {},
     "output_type": "display_data"
    }
   ],
   "source": [
    "df.boxplot(figsize=(12,10))"
   ]
  },
  {
   "cell_type": "code",
   "execution_count": 15,
   "id": "52b8b4ff",
   "metadata": {
    "execution": {
     "iopub.execute_input": "2022-10-16T16:37:43.094931Z",
     "iopub.status.busy": "2022-10-16T16:37:43.094484Z",
     "iopub.status.idle": "2022-10-16T16:37:43.118734Z",
     "shell.execute_reply": "2022-10-16T16:37:43.117021Z"
    },
    "papermill": {
     "duration": 0.051332,
     "end_time": "2022-10-16T16:37:43.121320",
     "exception": false,
     "start_time": "2022-10-16T16:37:43.069988",
     "status": "completed"
    },
    "tags": []
   },
   "outputs": [
    {
     "name": "stdout",
     "output_type": "stream",
     "text": [
      "number of outliers: 99\n",
      "number of outliers: 0\n",
      "number of outliers: 0\n",
      "number of outliers: 0\n",
      "number of outliers: 0\n"
     ]
    }
   ],
   "source": [
    "def find_outliers_IQR(df):\n",
    "\n",
    "   q1=df.quantile(0.25,interpolation='midpoint')\n",
    "   q3=df.quantile(0.75,interpolation='midpoint')\n",
    "   IQR=q3-q1\n",
    "   outliers = df[((df<(q1-1.5*IQR)) | (df>(q3+1.5*IQR)))]\n",
    "   return outliers\n",
    "\n",
    "outliers = find_outliers_IQR(df['Volume'])\n",
    "print('number of outliers: '+ str(len(outliers)))\n",
    "outliers = find_outliers_IQR(df['Open'])\n",
    "print('number of outliers: '+ str(len(outliers)))\n",
    "outliers = find_outliers_IQR(df['High'])\n",
    "print('number of outliers: '+ str(len(outliers)))\n",
    "outliers = find_outliers_IQR(df['Low'])\n",
    "print('number of outliers: '+ str(len(outliers)))\n",
    "outliers = find_outliers_IQR(df['Close'])\n",
    "print('number of outliers: '+ str(len(outliers)))"
   ]
  },
  {
   "cell_type": "markdown",
   "id": "7188f029",
   "metadata": {
    "papermill": {
     "duration": 0.023164,
     "end_time": "2022-10-16T16:37:43.167766",
     "exception": false,
     "start_time": "2022-10-16T16:37:43.144602",
     "status": "completed"
    },
    "tags": []
   },
   "source": [
    " # RNN\n"
   ]
  },
  {
   "cell_type": "markdown",
   "id": "a96d27f7",
   "metadata": {
    "papermill": {
     "duration": 0.023369,
     "end_time": "2022-10-16T16:37:43.214262",
     "exception": false,
     "start_time": "2022-10-16T16:37:43.190893",
     "status": "completed"
    },
    "tags": []
   },
   "source": [
    "tested the recurent neural network model, however the model didnt prove to be good enough."
   ]
  },
  {
   "cell_type": "code",
   "execution_count": 16,
   "id": "f484f1f6",
   "metadata": {
    "execution": {
     "iopub.execute_input": "2022-10-16T16:37:43.262664Z",
     "iopub.status.busy": "2022-10-16T16:37:43.261964Z",
     "iopub.status.idle": "2022-10-16T16:37:43.421942Z",
     "shell.execute_reply": "2022-10-16T16:37:43.420938Z"
    },
    "papermill": {
     "duration": 0.187363,
     "end_time": "2022-10-16T16:37:43.424703",
     "exception": false,
     "start_time": "2022-10-16T16:37:43.237340",
     "status": "completed"
    },
    "tags": []
   },
   "outputs": [],
   "source": [
    "import csv\n",
    "import numpy as np\n",
    "import pandas as pd\n",
    "import matplotlib.pyplot as plt\n",
    "from sklearn.preprocessing import MinMaxScaler\n",
    "from sklearn.metrics import mean_squared_error\n",
    "import math\n",
    "from sklearn import metrics"
   ]
  },
  {
   "cell_type": "code",
   "execution_count": 17,
   "id": "1158d14a",
   "metadata": {
    "execution": {
     "iopub.execute_input": "2022-10-16T16:37:43.472548Z",
     "iopub.status.busy": "2022-10-16T16:37:43.471586Z",
     "iopub.status.idle": "2022-10-16T16:37:43.491063Z",
     "shell.execute_reply": "2022-10-16T16:37:43.489996Z"
    },
    "papermill": {
     "duration": 0.045471,
     "end_time": "2022-10-16T16:37:43.493093",
     "exception": false,
     "start_time": "2022-10-16T16:37:43.447622",
     "status": "completed"
    },
    "tags": []
   },
   "outputs": [
    {
     "data": {
      "text/html": [
       "<div>\n",
       "<style scoped>\n",
       "    .dataframe tbody tr th:only-of-type {\n",
       "        vertical-align: middle;\n",
       "    }\n",
       "\n",
       "    .dataframe tbody tr th {\n",
       "        vertical-align: top;\n",
       "    }\n",
       "\n",
       "    .dataframe thead th {\n",
       "        text-align: right;\n",
       "    }\n",
       "</style>\n",
       "<table border=\"1\" class=\"dataframe\">\n",
       "  <thead>\n",
       "    <tr style=\"text-align: right;\">\n",
       "      <th></th>\n",
       "      <th>Open</th>\n",
       "      <th>High</th>\n",
       "      <th>Low</th>\n",
       "      <th>Volume</th>\n",
       "    </tr>\n",
       "  </thead>\n",
       "  <tbody>\n",
       "    <tr>\n",
       "      <th>0</th>\n",
       "      <td>1099.59</td>\n",
       "      <td>1110.75</td>\n",
       "      <td>1093.85</td>\n",
       "      <td>66545000</td>\n",
       "    </tr>\n",
       "    <tr>\n",
       "      <th>1</th>\n",
       "      <td>1117.47</td>\n",
       "      <td>1130.57</td>\n",
       "      <td>1112.75</td>\n",
       "      <td>41227200</td>\n",
       "    </tr>\n",
       "    <tr>\n",
       "      <th>2</th>\n",
       "      <td>1116.63</td>\n",
       "      <td>1138.68</td>\n",
       "      <td>1116.10</td>\n",
       "      <td>42316800</td>\n",
       "    </tr>\n",
       "    <tr>\n",
       "      <th>3</th>\n",
       "      <td>1122.00</td>\n",
       "      <td>1149.76</td>\n",
       "      <td>1117.56</td>\n",
       "      <td>64899600</td>\n",
       "    </tr>\n",
       "    <tr>\n",
       "      <th>4</th>\n",
       "      <td>1145.64</td>\n",
       "      <td>1149.96</td>\n",
       "      <td>1120.93</td>\n",
       "      <td>52138900</td>\n",
       "    </tr>\n",
       "  </tbody>\n",
       "</table>\n",
       "</div>"
      ],
      "text/plain": [
       "      Open     High      Low    Volume\n",
       "0  1099.59  1110.75  1093.85  66545000\n",
       "1  1117.47  1130.57  1112.75  41227200\n",
       "2  1116.63  1138.68  1116.10  42316800\n",
       "3  1122.00  1149.76  1117.56  64899600\n",
       "4  1145.64  1149.96  1120.93  52138900"
      ]
     },
     "execution_count": 17,
     "metadata": {},
     "output_type": "execute_result"
    }
   ],
   "source": [
    "df = pd.read_csv('../input/data-analytics-ue20cs312/train.csv')\n",
    "\n",
    "df = df.drop(['Date'], axis = 1)\n",
    "df = df.drop(['Close'], axis = 1)\n",
    "df.head()"
   ]
  },
  {
   "cell_type": "code",
   "execution_count": 18,
   "id": "c6b2b911",
   "metadata": {
    "execution": {
     "iopub.execute_input": "2022-10-16T16:37:43.541038Z",
     "iopub.status.busy": "2022-10-16T16:37:43.540360Z",
     "iopub.status.idle": "2022-10-16T16:37:43.550645Z",
     "shell.execute_reply": "2022-10-16T16:37:43.549425Z"
    },
    "papermill": {
     "duration": 0.036646,
     "end_time": "2022-10-16T16:37:43.552740",
     "exception": false,
     "start_time": "2022-10-16T16:37:43.516094",
     "status": "completed"
    },
    "tags": []
   },
   "outputs": [
    {
     "data": {
      "text/plain": [
       "array([[0.00495081, 0.002098  , 0.01189584, 0.49212882],\n",
       "       [0.01454134, 0.01276017, 0.02208765, 0.28182818],\n",
       "       [0.01409078, 0.01712294, 0.02389413, 0.29087887],\n",
       "       ...,\n",
       "       [0.65373269, 0.69793589, 0.66059652, 0.30312339],\n",
       "       [0.69473379, 0.7189213 , 0.70401687, 0.1537413 ],\n",
       "       [0.70829355, 0.73827673, 0.71966049, 0.21272197]])"
      ]
     },
     "execution_count": 18,
     "metadata": {},
     "output_type": "execute_result"
    }
   ],
   "source": [
    "scaler = MinMaxScaler() # min = 0, max = 1\n",
    "df = scaler.fit_transform(df)\n",
    "df"
   ]
  },
  {
   "cell_type": "code",
   "execution_count": 19,
   "id": "bb18b013",
   "metadata": {
    "execution": {
     "iopub.execute_input": "2022-10-16T16:37:43.602077Z",
     "iopub.status.busy": "2022-10-16T16:37:43.601396Z",
     "iopub.status.idle": "2022-10-16T16:37:43.608206Z",
     "shell.execute_reply": "2022-10-16T16:37:43.607292Z"
    },
    "papermill": {
     "duration": 0.034343,
     "end_time": "2022-10-16T16:37:43.610347",
     "exception": false,
     "start_time": "2022-10-16T16:37:43.576004",
     "status": "completed"
    },
    "tags": []
   },
   "outputs": [],
   "source": [
    "# splitting data\n",
    "\n",
    "X_train = []\n",
    "y_train = []\n",
    "\n",
    "# training data will have sets of 30 tuples - 1 - 20, 2 - 21, ...\n",
    "\n",
    "for i in range(20, df.shape[0]): \n",
    "    X_train.append(df[i-20:i])\n",
    "    y_train.append(df[i, 0])"
   ]
  },
  {
   "cell_type": "code",
   "execution_count": 20,
   "id": "b29de925",
   "metadata": {
    "execution": {
     "iopub.execute_input": "2022-10-16T16:37:43.658932Z",
     "iopub.status.busy": "2022-10-16T16:37:43.658147Z",
     "iopub.status.idle": "2022-10-16T16:37:43.667270Z",
     "shell.execute_reply": "2022-10-16T16:37:43.666167Z"
    },
    "papermill": {
     "duration": 0.036144,
     "end_time": "2022-10-16T16:37:43.669685",
     "exception": false,
     "start_time": "2022-10-16T16:37:43.633541",
     "status": "completed"
    },
    "tags": []
   },
   "outputs": [
    {
     "data": {
      "text/plain": [
       "((1635, 20, 4), (1635,))"
      ]
     },
     "execution_count": 20,
     "metadata": {},
     "output_type": "execute_result"
    }
   ],
   "source": [
    "X_train = np.array(X_train)\n",
    "y_train = np.array(y_train)\n",
    "X_train.shape, y_train.shape"
   ]
  },
  {
   "cell_type": "code",
   "execution_count": 21,
   "id": "3b0945d6",
   "metadata": {
    "execution": {
     "iopub.execute_input": "2022-10-16T16:37:43.718386Z",
     "iopub.status.busy": "2022-10-16T16:37:43.718002Z",
     "iopub.status.idle": "2022-10-16T16:37:43.722481Z",
     "shell.execute_reply": "2022-10-16T16:37:43.721335Z"
    },
    "papermill": {
     "duration": 0.031674,
     "end_time": "2022-10-16T16:37:43.724853",
     "exception": false,
     "start_time": "2022-10-16T16:37:43.693179",
     "status": "completed"
    },
    "tags": []
   },
   "outputs": [],
   "source": [
    "# building LSTM"
   ]
  },
  {
   "cell_type": "code",
   "execution_count": 22,
   "id": "efb6273b",
   "metadata": {
    "execution": {
     "iopub.execute_input": "2022-10-16T16:37:43.773775Z",
     "iopub.status.busy": "2022-10-16T16:37:43.773406Z",
     "iopub.status.idle": "2022-10-16T16:37:49.637683Z",
     "shell.execute_reply": "2022-10-16T16:37:49.636554Z"
    },
    "papermill": {
     "duration": 5.892456,
     "end_time": "2022-10-16T16:37:49.640578",
     "exception": false,
     "start_time": "2022-10-16T16:37:43.748122",
     "status": "completed"
    },
    "tags": []
   },
   "outputs": [],
   "source": [
    "from tensorflow.keras import Sequential\n",
    "from tensorflow.keras.layers import Dense, LSTM, Dropout"
   ]
  },
  {
   "cell_type": "code",
   "execution_count": 23,
   "id": "a41b1602",
   "metadata": {
    "execution": {
     "iopub.execute_input": "2022-10-16T16:37:49.691291Z",
     "iopub.status.busy": "2022-10-16T16:37:49.689942Z",
     "iopub.status.idle": "2022-10-16T16:37:50.122781Z",
     "shell.execute_reply": "2022-10-16T16:37:50.119872Z"
    },
    "papermill": {
     "duration": 0.461354,
     "end_time": "2022-10-16T16:37:50.125741",
     "exception": false,
     "start_time": "2022-10-16T16:37:49.664387",
     "status": "completed"
    },
    "tags": []
   },
   "outputs": [
    {
     "name": "stderr",
     "output_type": "stream",
     "text": [
      "2022-10-16 16:37:49.726668: I tensorflow/core/common_runtime/process_util.cc:146] Creating new thread pool with default inter op setting: 2. Tune using inter_op_parallelism_threads for best performance.\n"
     ]
    },
    {
     "name": "stdout",
     "output_type": "stream",
     "text": [
      "Model: \"sequential\"\n",
      "_________________________________________________________________\n",
      "Layer (type)                 Output Shape              Param #   \n",
      "=================================================================\n",
      "lstm (LSTM)                  (None, 20, 50)            11000     \n",
      "_________________________________________________________________\n",
      "dropout (Dropout)            (None, 20, 50)            0         \n",
      "_________________________________________________________________\n",
      "lstm_1 (LSTM)                (None, 20, 60)            26640     \n",
      "_________________________________________________________________\n",
      "dropout_1 (Dropout)          (None, 20, 60)            0         \n",
      "_________________________________________________________________\n",
      "lstm_2 (LSTM)                (None, 20, 80)            45120     \n",
      "_________________________________________________________________\n",
      "dropout_2 (Dropout)          (None, 20, 80)            0         \n",
      "_________________________________________________________________\n",
      "lstm_3 (LSTM)                (None, 80)                51520     \n",
      "_________________________________________________________________\n",
      "dropout_3 (Dropout)          (None, 80)                0         \n",
      "_________________________________________________________________\n",
      "dense (Dense)                (None, 1)                 81        \n",
      "=================================================================\n",
      "Total params: 134,361\n",
      "Trainable params: 134,361\n",
      "Non-trainable params: 0\n",
      "_________________________________________________________________\n"
     ]
    }
   ],
   "source": [
    "reg = Sequential()  # regressor\n",
    "\n",
    "reg.add(LSTM(units = 50, activation = 'relu', return_sequences = True, input_shape = (20,4))) \n",
    "reg.add(Dropout(0.2))\n",
    "\n",
    "reg.add(LSTM(units = 60, activation = 'relu', return_sequences = True)) \n",
    "reg.add(Dropout(0.3))\n",
    "\n",
    "reg.add(LSTM(units = 80, activation = 'relu', return_sequences = True)) \n",
    "reg.add(Dropout(0.4))\n",
    "\n",
    "reg.add(LSTM(units = 80, activation = 'relu')) \n",
    "reg.add(Dropout(0.5))\n",
    "\n",
    "reg.add(Dense(units = 1))\n",
    "\n",
    "reg.summary()"
   ]
  },
  {
   "cell_type": "code",
   "execution_count": 24,
   "id": "61aae8bb",
   "metadata": {
    "execution": {
     "iopub.execute_input": "2022-10-16T16:37:50.175286Z",
     "iopub.status.busy": "2022-10-16T16:37:50.174909Z",
     "iopub.status.idle": "2022-10-16T16:39:30.635978Z",
     "shell.execute_reply": "2022-10-16T16:39:30.634892Z"
    },
    "papermill": {
     "duration": 100.488501,
     "end_time": "2022-10-16T16:39:30.638530",
     "exception": false,
     "start_time": "2022-10-16T16:37:50.150029",
     "status": "completed"
    },
    "tags": []
   },
   "outputs": [
    {
     "name": "stdout",
     "output_type": "stream",
     "text": [
      "Epoch 1/30\n"
     ]
    },
    {
     "name": "stderr",
     "output_type": "stream",
     "text": [
      "2022-10-16 16:37:50.247696: I tensorflow/compiler/mlir/mlir_graph_optimization_pass.cc:185] None of the MLIR Optimization Passes are enabled (registered 2)\n"
     ]
    },
    {
     "name": "stdout",
     "output_type": "stream",
     "text": [
      "52/52 [==============================] - 9s 59ms/step - loss: 0.0497\n",
      "Epoch 2/30\n",
      "52/52 [==============================] - 3s 59ms/step - loss: 0.0113\n",
      "Epoch 3/30\n",
      "52/52 [==============================] - 3s 60ms/step - loss: 0.0089\n",
      "Epoch 4/30\n",
      "52/52 [==============================] - 4s 69ms/step - loss: 0.0087\n",
      "Epoch 5/30\n",
      "52/52 [==============================] - 3s 60ms/step - loss: 0.0092\n",
      "Epoch 6/30\n",
      "52/52 [==============================] - 3s 61ms/step - loss: 0.0080\n",
      "Epoch 7/30\n",
      "52/52 [==============================] - 3s 59ms/step - loss: 0.0074\n",
      "Epoch 8/30\n",
      "52/52 [==============================] - 3s 59ms/step - loss: 0.0076\n",
      "Epoch 9/30\n",
      "52/52 [==============================] - 3s 59ms/step - loss: 0.0069\n",
      "Epoch 10/30\n",
      "52/52 [==============================] - 3s 59ms/step - loss: 0.0066\n",
      "Epoch 11/30\n",
      "52/52 [==============================] - 3s 59ms/step - loss: 0.0073\n",
      "Epoch 12/30\n",
      "52/52 [==============================] - 3s 58ms/step - loss: 0.0066\n",
      "Epoch 13/30\n",
      "52/52 [==============================] - 3s 60ms/step - loss: 0.0070\n",
      "Epoch 14/30\n",
      "52/52 [==============================] - 4s 69ms/step - loss: 0.0059\n",
      "Epoch 15/30\n",
      "52/52 [==============================] - 3s 58ms/step - loss: 0.0062\n",
      "Epoch 16/30\n",
      "52/52 [==============================] - 3s 60ms/step - loss: 0.0054\n",
      "Epoch 17/30\n",
      "52/52 [==============================] - 3s 61ms/step - loss: 0.0058\n",
      "Epoch 18/30\n",
      "52/52 [==============================] - 3s 59ms/step - loss: 0.0047\n",
      "Epoch 19/30\n",
      "52/52 [==============================] - 3s 59ms/step - loss: 0.0052\n",
      "Epoch 20/30\n",
      "52/52 [==============================] - 3s 60ms/step - loss: 0.0054\n",
      "Epoch 21/30\n",
      "52/52 [==============================] - 3s 59ms/step - loss: 0.0055\n",
      "Epoch 22/30\n",
      "52/52 [==============================] - 3s 59ms/step - loss: 0.0051\n",
      "Epoch 23/30\n",
      "52/52 [==============================] - 3s 59ms/step - loss: 0.0052\n",
      "Epoch 24/30\n",
      "52/52 [==============================] - 4s 69ms/step - loss: 0.0046\n",
      "Epoch 25/30\n",
      "52/52 [==============================] - 3s 59ms/step - loss: 0.0046\n",
      "Epoch 26/30\n",
      "52/52 [==============================] - 3s 59ms/step - loss: 0.0045\n",
      "Epoch 27/30\n",
      "52/52 [==============================] - 3s 62ms/step - loss: 0.0045\n",
      "Epoch 28/30\n",
      "52/52 [==============================] - 3s 60ms/step - loss: 0.0044\n",
      "Epoch 29/30\n",
      "52/52 [==============================] - 3s 59ms/step - loss: 0.0042\n",
      "Epoch 30/30\n",
      "52/52 [==============================] - 3s 59ms/step - loss: 0.0041\n"
     ]
    },
    {
     "data": {
      "text/plain": [
       "<keras.callbacks.History at 0x7f8c36057710>"
      ]
     },
     "execution_count": 24,
     "metadata": {},
     "output_type": "execute_result"
    }
   ],
   "source": [
    "reg.compile(optimizer = 'adam', loss = 'mean_squared_error')\n",
    "reg.fit(X_train, y_train, epochs = 30, batch_size = 32)"
   ]
  },
  {
   "cell_type": "code",
   "execution_count": 25,
   "id": "e7002803",
   "metadata": {
    "execution": {
     "iopub.execute_input": "2022-10-16T16:39:30.898470Z",
     "iopub.status.busy": "2022-10-16T16:39:30.897257Z",
     "iopub.status.idle": "2022-10-16T16:39:30.916620Z",
     "shell.execute_reply": "2022-10-16T16:39:30.915768Z"
    },
    "papermill": {
     "duration": 0.157994,
     "end_time": "2022-10-16T16:39:30.919171",
     "exception": false,
     "start_time": "2022-10-16T16:39:30.761177",
     "status": "completed"
    },
    "tags": []
   },
   "outputs": [],
   "source": [
    "# test data set\n",
    "test_data = pd.read_csv('../input/data-analytics-ue20cs312/test.csv')\n",
    "test_data = test_data.drop(['Date'], axis = 1)\n",
    "train_data = pd.read_csv('../input/data-analytics-ue20cs312/train.csv')\n",
    "train_data = train_data.drop(['Date'], axis = 1)\n",
    "train_data = train_data.drop(['Close'], axis = 1)"
   ]
  },
  {
   "cell_type": "code",
   "execution_count": 26,
   "id": "576e1fe0",
   "metadata": {
    "execution": {
     "iopub.execute_input": "2022-10-16T16:39:31.158463Z",
     "iopub.status.busy": "2022-10-16T16:39:31.158079Z",
     "iopub.status.idle": "2022-10-16T16:39:31.162946Z",
     "shell.execute_reply": "2022-10-16T16:39:31.161777Z"
    },
    "papermill": {
     "duration": 0.128038,
     "end_time": "2022-10-16T16:39:31.165509",
     "exception": false,
     "start_time": "2022-10-16T16:39:31.037471",
     "status": "completed"
    },
    "tags": []
   },
   "outputs": [],
   "source": [
    "past_20 = train_data.tail(20) # to predict opening price of first day, we use data from last 20 days."
   ]
  },
  {
   "cell_type": "code",
   "execution_count": 27,
   "id": "a13a7b52",
   "metadata": {
    "execution": {
     "iopub.execute_input": "2022-10-16T16:39:31.406096Z",
     "iopub.status.busy": "2022-10-16T16:39:31.405684Z",
     "iopub.status.idle": "2022-10-16T16:39:31.431104Z",
     "shell.execute_reply": "2022-10-16T16:39:31.429891Z"
    },
    "papermill": {
     "duration": 0.149346,
     "end_time": "2022-10-16T16:39:31.433671",
     "exception": false,
     "start_time": "2022-10-16T16:39:31.284325",
     "status": "completed"
    },
    "tags": []
   },
   "outputs": [
    {
     "data": {
      "text/html": [
       "<div>\n",
       "<style scoped>\n",
       "    .dataframe tbody tr th:only-of-type {\n",
       "        vertical-align: middle;\n",
       "    }\n",
       "\n",
       "    .dataframe tbody tr th {\n",
       "        vertical-align: top;\n",
       "    }\n",
       "\n",
       "    .dataframe thead th {\n",
       "        text-align: right;\n",
       "    }\n",
       "</style>\n",
       "<table border=\"1\" class=\"dataframe\">\n",
       "  <thead>\n",
       "    <tr style=\"text-align: right;\">\n",
       "      <th></th>\n",
       "      <th>Open</th>\n",
       "      <th>High</th>\n",
       "      <th>Low</th>\n",
       "      <th>Volume</th>\n",
       "    </tr>\n",
       "  </thead>\n",
       "  <tbody>\n",
       "    <tr>\n",
       "      <th>1635</th>\n",
       "      <td>2304.80</td>\n",
       "      <td>2327.05</td>\n",
       "      <td>2286.59</td>\n",
       "      <td>31569200</td>\n",
       "    </tr>\n",
       "    <tr>\n",
       "      <th>1636</th>\n",
       "      <td>2300.35</td>\n",
       "      <td>2379.31</td>\n",
       "      <td>2283.65</td>\n",
       "      <td>36901200</td>\n",
       "    </tr>\n",
       "    <tr>\n",
       "      <th>1637</th>\n",
       "      <td>2379.40</td>\n",
       "      <td>2416.51</td>\n",
       "      <td>2361.59</td>\n",
       "      <td>29712800</td>\n",
       "    </tr>\n",
       "    <tr>\n",
       "      <th>1638</th>\n",
       "      <td>2403.01</td>\n",
       "      <td>2440.50</td>\n",
       "      <td>2388.67</td>\n",
       "      <td>32707700</td>\n",
       "    </tr>\n",
       "    <tr>\n",
       "      <th>1639</th>\n",
       "      <td>2422.57</td>\n",
       "      <td>2455.72</td>\n",
       "      <td>2415.85</td>\n",
       "      <td>29494800</td>\n",
       "    </tr>\n",
       "    <tr>\n",
       "      <th>1640</th>\n",
       "      <td>2424.79</td>\n",
       "      <td>2438.46</td>\n",
       "      <td>2399.49</td>\n",
       "      <td>26993200</td>\n",
       "    </tr>\n",
       "    <tr>\n",
       "      <th>1641</th>\n",
       "      <td>2409.60</td>\n",
       "      <td>2437.68</td>\n",
       "      <td>2385.85</td>\n",
       "      <td>25386100</td>\n",
       "    </tr>\n",
       "    <tr>\n",
       "      <th>1642</th>\n",
       "      <td>2365.87</td>\n",
       "      <td>2407.28</td>\n",
       "      <td>2353.62</td>\n",
       "      <td>39187000</td>\n",
       "    </tr>\n",
       "    <tr>\n",
       "      <th>1643</th>\n",
       "      <td>2347.49</td>\n",
       "      <td>2397.98</td>\n",
       "      <td>2334.23</td>\n",
       "      <td>33107700</td>\n",
       "    </tr>\n",
       "    <tr>\n",
       "      <th>1644</th>\n",
       "      <td>2411.01</td>\n",
       "      <td>2434.34</td>\n",
       "      <td>2393.93</td>\n",
       "      <td>35048800</td>\n",
       "    </tr>\n",
       "    <tr>\n",
       "      <th>1645</th>\n",
       "      <td>2413.77</td>\n",
       "      <td>2441.49</td>\n",
       "      <td>2374.56</td>\n",
       "      <td>33690300</td>\n",
       "    </tr>\n",
       "    <tr>\n",
       "      <th>1646</th>\n",
       "      <td>2406.33</td>\n",
       "      <td>2438.23</td>\n",
       "      <td>2388.04</td>\n",
       "      <td>31505900</td>\n",
       "    </tr>\n",
       "    <tr>\n",
       "      <th>1647</th>\n",
       "      <td>2437.17</td>\n",
       "      <td>2464.55</td>\n",
       "      <td>2420.47</td>\n",
       "      <td>27485900</td>\n",
       "    </tr>\n",
       "    <tr>\n",
       "      <th>1648</th>\n",
       "      <td>2447.63</td>\n",
       "      <td>2467.14</td>\n",
       "      <td>2418.72</td>\n",
       "      <td>27976100</td>\n",
       "    </tr>\n",
       "    <tr>\n",
       "      <th>1649</th>\n",
       "      <td>2438.25</td>\n",
       "      <td>2458.13</td>\n",
       "      <td>2390.04</td>\n",
       "      <td>44686500</td>\n",
       "    </tr>\n",
       "    <tr>\n",
       "      <th>1650</th>\n",
       "      <td>2412.25</td>\n",
       "      <td>2429.44</td>\n",
       "      <td>2387.41</td>\n",
       "      <td>29106300</td>\n",
       "    </tr>\n",
       "    <tr>\n",
       "      <th>1651</th>\n",
       "      <td>2289.29</td>\n",
       "      <td>2307.08</td>\n",
       "      <td>2255.66</td>\n",
       "      <td>48503400</td>\n",
       "    </tr>\n",
       "    <tr>\n",
       "      <th>1652</th>\n",
       "      <td>2309.14</td>\n",
       "      <td>2404.25</td>\n",
       "      <td>2296.82</td>\n",
       "      <td>43790900</td>\n",
       "    </tr>\n",
       "    <tr>\n",
       "      <th>1653</th>\n",
       "      <td>2385.58</td>\n",
       "      <td>2443.26</td>\n",
       "      <td>2377.34</td>\n",
       "      <td>25807000</td>\n",
       "    </tr>\n",
       "    <tr>\n",
       "      <th>1654</th>\n",
       "      <td>2410.86</td>\n",
       "      <td>2479.24</td>\n",
       "      <td>2406.35</td>\n",
       "      <td>32907600</td>\n",
       "    </tr>\n",
       "    <tr>\n",
       "      <th>0</th>\n",
       "      <td>2455.71</td>\n",
       "      <td>2500.26</td>\n",
       "      <td>2447.87</td>\n",
       "      <td>24327600</td>\n",
       "    </tr>\n",
       "    <tr>\n",
       "      <th>1</th>\n",
       "      <td>2466.68</td>\n",
       "      <td>2494.73</td>\n",
       "      <td>2447.99</td>\n",
       "      <td>19076300</td>\n",
       "    </tr>\n",
       "    <tr>\n",
       "      <th>2</th>\n",
       "      <td>2473.29</td>\n",
       "      <td>2507.59</td>\n",
       "      <td>2449.39</td>\n",
       "      <td>27459700</td>\n",
       "    </tr>\n",
       "    <tr>\n",
       "      <th>3</th>\n",
       "      <td>2475.98</td>\n",
       "      <td>2487.75</td>\n",
       "      <td>2419.88</td>\n",
       "      <td>23699600</td>\n",
       "    </tr>\n",
       "    <tr>\n",
       "      <th>4</th>\n",
       "      <td>2414.66</td>\n",
       "      <td>2444.17</td>\n",
       "      <td>2409.01</td>\n",
       "      <td>18912400</td>\n",
       "    </tr>\n",
       "    <tr>\n",
       "      <th>5</th>\n",
       "      <td>2444.97</td>\n",
       "      <td>2475.18</td>\n",
       "      <td>2433.03</td>\n",
       "      <td>18104900</td>\n",
       "    </tr>\n",
       "    <tr>\n",
       "      <th>6</th>\n",
       "      <td>2446.62</td>\n",
       "      <td>2458.88</td>\n",
       "      <td>2427.54</td>\n",
       "      <td>16715500</td>\n",
       "    </tr>\n",
       "    <tr>\n",
       "      <th>7</th>\n",
       "      <td>2481.04</td>\n",
       "      <td>2501.79</td>\n",
       "      <td>2463.66</td>\n",
       "      <td>22158000</td>\n",
       "    </tr>\n",
       "    <tr>\n",
       "      <th>8</th>\n",
       "      <td>2500.23</td>\n",
       "      <td>2508.87</td>\n",
       "      <td>2467.32</td>\n",
       "      <td>18470800</td>\n",
       "    </tr>\n",
       "    <tr>\n",
       "      <th>9</th>\n",
       "      <td>2494.85</td>\n",
       "      <td>2535.06</td>\n",
       "      <td>2486.40</td>\n",
       "      <td>18402700</td>\n",
       "    </tr>\n",
       "    <tr>\n",
       "      <th>10</th>\n",
       "      <td>2519.66</td>\n",
       "      <td>2547.44</td>\n",
       "      <td>2511.43</td>\n",
       "      <td>17864800</td>\n",
       "    </tr>\n",
       "    <tr>\n",
       "      <th>11</th>\n",
       "      <td>2590.50</td>\n",
       "      <td>2618.08</td>\n",
       "      <td>2576.82</td>\n",
       "      <td>34351100</td>\n",
       "    </tr>\n",
       "    <tr>\n",
       "      <th>12</th>\n",
       "      <td>2575.33</td>\n",
       "      <td>2626.42</td>\n",
       "      <td>2567.45</td>\n",
       "      <td>22437600</td>\n",
       "    </tr>\n",
       "    <tr>\n",
       "      <th>13</th>\n",
       "      <td>2578.78</td>\n",
       "      <td>2599.93</td>\n",
       "      <td>2562.89</td>\n",
       "      <td>16909700</td>\n",
       "    </tr>\n",
       "    <tr>\n",
       "      <th>14</th>\n",
       "      <td>2569.71</td>\n",
       "      <td>2572.30</td>\n",
       "      <td>2531.28</td>\n",
       "      <td>21584300</td>\n",
       "    </tr>\n",
       "    <tr>\n",
       "      <th>15</th>\n",
       "      <td>2510.94</td>\n",
       "      <td>2519.43</td>\n",
       "      <td>2481.41</td>\n",
       "      <td>20293600</td>\n",
       "    </tr>\n",
       "    <tr>\n",
       "      <th>16</th>\n",
       "      <td>2480.12</td>\n",
       "      <td>2497.21</td>\n",
       "      <td>2466.14</td>\n",
       "      <td>15460800</td>\n",
       "    </tr>\n",
       "    <tr>\n",
       "      <th>17</th>\n",
       "      <td>2478.61</td>\n",
       "      <td>2498.60</td>\n",
       "      <td>2465.58</td>\n",
       "      <td>16889700</td>\n",
       "    </tr>\n",
       "    <tr>\n",
       "      <th>18</th>\n",
       "      <td>2493.73</td>\n",
       "      <td>2522.98</td>\n",
       "      <td>2490.33</td>\n",
       "      <td>16221600</td>\n",
       "    </tr>\n",
       "    <tr>\n",
       "      <th>19</th>\n",
       "      <td>2507.51</td>\n",
       "      <td>2521.29</td>\n",
       "      <td>2423.23</td>\n",
       "      <td>32486500</td>\n",
       "    </tr>\n",
       "    <tr>\n",
       "      <th>20</th>\n",
       "      <td>2412.76</td>\n",
       "      <td>2452.74</td>\n",
       "      <td>2402.20</td>\n",
       "      <td>21193500</td>\n",
       "    </tr>\n",
       "    <tr>\n",
       "      <th>21</th>\n",
       "      <td>2439.72</td>\n",
       "      <td>2445.64</td>\n",
       "      <td>2405.10</td>\n",
       "      <td>21106600</td>\n",
       "    </tr>\n",
       "    <tr>\n",
       "      <th>22</th>\n",
       "      <td>2439.12</td>\n",
       "      <td>2450.36</td>\n",
       "      <td>2409.08</td>\n",
       "      <td>26958500</td>\n",
       "    </tr>\n",
       "    <tr>\n",
       "      <th>23</th>\n",
       "      <td>2416.31</td>\n",
       "      <td>2459.01</td>\n",
       "      <td>2406.46</td>\n",
       "      <td>23909300</td>\n",
       "    </tr>\n",
       "    <tr>\n",
       "      <th>24</th>\n",
       "      <td>2457.14</td>\n",
       "      <td>2468.18</td>\n",
       "      <td>2406.24</td>\n",
       "      <td>21386700</td>\n",
       "    </tr>\n",
       "    <tr>\n",
       "      <th>25</th>\n",
       "      <td>2412.55</td>\n",
       "      <td>2424.43</td>\n",
       "      <td>2375.72</td>\n",
       "      <td>21822300</td>\n",
       "    </tr>\n",
       "    <tr>\n",
       "      <th>26</th>\n",
       "      <td>2409.52</td>\n",
       "      <td>2465.33</td>\n",
       "      <td>2405.07</td>\n",
       "      <td>23680100</td>\n",
       "    </tr>\n",
       "    <tr>\n",
       "      <th>27</th>\n",
       "      <td>2444.73</td>\n",
       "      <td>2471.05</td>\n",
       "      <td>2430.27</td>\n",
       "      <td>22386000</td>\n",
       "    </tr>\n",
       "    <tr>\n",
       "      <th>28</th>\n",
       "      <td>2460.99</td>\n",
       "      <td>2489.17</td>\n",
       "      <td>2458.87</td>\n",
       "      <td>22389000</td>\n",
       "    </tr>\n",
       "    <tr>\n",
       "      <th>29</th>\n",
       "      <td>2484.90</td>\n",
       "      <td>2502.01</td>\n",
       "      <td>2475.08</td>\n",
       "      <td>20299300</td>\n",
       "    </tr>\n",
       "    <tr>\n",
       "      <th>30</th>\n",
       "      <td>2457.13</td>\n",
       "      <td>2472.09</td>\n",
       "      <td>2404.74</td>\n",
       "      <td>33537400</td>\n",
       "    </tr>\n",
       "    <tr>\n",
       "      <th>31</th>\n",
       "      <td>2416.68</td>\n",
       "      <td>2431.15</td>\n",
       "      <td>2393.45</td>\n",
       "      <td>23092600</td>\n",
       "    </tr>\n",
       "    <tr>\n",
       "      <th>32</th>\n",
       "      <td>2407.20</td>\n",
       "      <td>2417.90</td>\n",
       "      <td>2372.21</td>\n",
       "      <td>27336300</td>\n",
       "    </tr>\n",
       "    <tr>\n",
       "      <th>33</th>\n",
       "      <td>2359.62</td>\n",
       "      <td>2394.11</td>\n",
       "      <td>2343.28</td>\n",
       "      <td>66011400</td>\n",
       "    </tr>\n",
       "    <tr>\n",
       "      <th>34</th>\n",
       "      <td>2364.47</td>\n",
       "      <td>2396.17</td>\n",
       "      <td>2359.48</td>\n",
       "      <td>20522500</td>\n",
       "    </tr>\n",
       "  </tbody>\n",
       "</table>\n",
       "</div>"
      ],
      "text/plain": [
       "         Open     High      Low    Volume\n",
       "1635  2304.80  2327.05  2286.59  31569200\n",
       "1636  2300.35  2379.31  2283.65  36901200\n",
       "1637  2379.40  2416.51  2361.59  29712800\n",
       "1638  2403.01  2440.50  2388.67  32707700\n",
       "1639  2422.57  2455.72  2415.85  29494800\n",
       "1640  2424.79  2438.46  2399.49  26993200\n",
       "1641  2409.60  2437.68  2385.85  25386100\n",
       "1642  2365.87  2407.28  2353.62  39187000\n",
       "1643  2347.49  2397.98  2334.23  33107700\n",
       "1644  2411.01  2434.34  2393.93  35048800\n",
       "1645  2413.77  2441.49  2374.56  33690300\n",
       "1646  2406.33  2438.23  2388.04  31505900\n",
       "1647  2437.17  2464.55  2420.47  27485900\n",
       "1648  2447.63  2467.14  2418.72  27976100\n",
       "1649  2438.25  2458.13  2390.04  44686500\n",
       "1650  2412.25  2429.44  2387.41  29106300\n",
       "1651  2289.29  2307.08  2255.66  48503400\n",
       "1652  2309.14  2404.25  2296.82  43790900\n",
       "1653  2385.58  2443.26  2377.34  25807000\n",
       "1654  2410.86  2479.24  2406.35  32907600\n",
       "0     2455.71  2500.26  2447.87  24327600\n",
       "1     2466.68  2494.73  2447.99  19076300\n",
       "2     2473.29  2507.59  2449.39  27459700\n",
       "3     2475.98  2487.75  2419.88  23699600\n",
       "4     2414.66  2444.17  2409.01  18912400\n",
       "5     2444.97  2475.18  2433.03  18104900\n",
       "6     2446.62  2458.88  2427.54  16715500\n",
       "7     2481.04  2501.79  2463.66  22158000\n",
       "8     2500.23  2508.87  2467.32  18470800\n",
       "9     2494.85  2535.06  2486.40  18402700\n",
       "10    2519.66  2547.44  2511.43  17864800\n",
       "11    2590.50  2618.08  2576.82  34351100\n",
       "12    2575.33  2626.42  2567.45  22437600\n",
       "13    2578.78  2599.93  2562.89  16909700\n",
       "14    2569.71  2572.30  2531.28  21584300\n",
       "15    2510.94  2519.43  2481.41  20293600\n",
       "16    2480.12  2497.21  2466.14  15460800\n",
       "17    2478.61  2498.60  2465.58  16889700\n",
       "18    2493.73  2522.98  2490.33  16221600\n",
       "19    2507.51  2521.29  2423.23  32486500\n",
       "20    2412.76  2452.74  2402.20  21193500\n",
       "21    2439.72  2445.64  2405.10  21106600\n",
       "22    2439.12  2450.36  2409.08  26958500\n",
       "23    2416.31  2459.01  2406.46  23909300\n",
       "24    2457.14  2468.18  2406.24  21386700\n",
       "25    2412.55  2424.43  2375.72  21822300\n",
       "26    2409.52  2465.33  2405.07  23680100\n",
       "27    2444.73  2471.05  2430.27  22386000\n",
       "28    2460.99  2489.17  2458.87  22389000\n",
       "29    2484.90  2502.01  2475.08  20299300\n",
       "30    2457.13  2472.09  2404.74  33537400\n",
       "31    2416.68  2431.15  2393.45  23092600\n",
       "32    2407.20  2417.90  2372.21  27336300\n",
       "33    2359.62  2394.11  2343.28  66011400\n",
       "34    2364.47  2396.17  2359.48  20522500"
      ]
     },
     "execution_count": 27,
     "metadata": {},
     "output_type": "execute_result"
    }
   ],
   "source": [
    "df = past_20.append(test_data)\n",
    "df"
   ]
  },
  {
   "cell_type": "code",
   "execution_count": 28,
   "id": "50f056e3",
   "metadata": {
    "execution": {
     "iopub.execute_input": "2022-10-16T16:39:31.677080Z",
     "iopub.status.busy": "2022-10-16T16:39:31.676656Z",
     "iopub.status.idle": "2022-10-16T16:39:31.688601Z",
     "shell.execute_reply": "2022-10-16T16:39:31.687403Z"
    },
    "papermill": {
     "duration": 0.137199,
     "end_time": "2022-10-16T16:39:31.690743",
     "exception": false,
     "start_time": "2022-10-16T16:39:31.553544",
     "status": "completed"
    },
    "tags": []
   },
   "outputs": [
    {
     "data": {
      "text/plain": [
       "array([[0.65140479, 0.65640617, 0.65508   , 0.20160464],\n",
       "       [0.64901788, 0.68451942, 0.6534946 , 0.24589454],\n",
       "       [0.69141895, 0.70453115, 0.69552369, 0.18618457],\n",
       "       [0.70408295, 0.71743656, 0.71012656, 0.21106151],\n",
       "       [0.71457459, 0.72562416, 0.72478336, 0.18437377],\n",
       "       [0.71576536, 0.71633914, 0.71596124, 0.16359439],\n",
       "       [0.70761771, 0.71591954, 0.70860588, 0.15024512],\n",
       "       [0.68416169, 0.69956587, 0.69122588, 0.26488139],\n",
       "       [0.67430297, 0.69456294, 0.68076983, 0.21438409],\n",
       "       [0.70837401, 0.71412279, 0.71296301, 0.23050771],\n",
       "       [0.70985443, 0.71796913, 0.70251775, 0.21922341],\n",
       "       [0.70586374, 0.71621542, 0.70978683, 0.20107884],\n",
       "       [0.72240578, 0.73037425, 0.72727469, 0.16768697],\n",
       "       [0.72801635, 0.73176754, 0.726331  , 0.17175879],\n",
       "       [0.72298508, 0.72692061, 0.71086533, 0.31056263],\n",
       "       [0.70903912, 0.71148684, 0.70944711, 0.18114672],\n",
       "       [0.64308549, 0.64566332, 0.63840102, 0.34226746],\n",
       "       [0.65373269, 0.69793589, 0.66059652, 0.30312339],\n",
       "       [0.69473379, 0.7189213 , 0.70401687, 0.1537413 ],\n",
       "       [0.70829355, 0.73827673, 0.71966049, 0.21272197],\n",
       "       [0.73235032, 0.74958443, 0.74205012, 0.14145276],\n",
       "       [0.73823444, 0.74660957, 0.74211483, 0.09783318],\n",
       "       [0.74177993, 0.7535276 , 0.74286978, 0.16746935],\n",
       "       [0.7432228 , 0.74285468, 0.72695653, 0.13623632],\n",
       "       [0.71033181, 0.71941084, 0.72109489, 0.09647176],\n",
       "       [0.72658957, 0.73609266, 0.73404766, 0.08976431],\n",
       "       [0.7274746 , 0.72732408, 0.73108718, 0.07822335],\n",
       "       [0.7459369 , 0.7504075 , 0.75056486, 0.12343112],\n",
       "       [0.75623009, 0.75421618, 0.75253852, 0.09280364],\n",
       "       [0.75334435, 0.76830508, 0.76282739, 0.09223797],\n",
       "       [0.76665201, 0.7749649 , 0.7763248 , 0.08776994],\n",
       "       [0.80464937, 0.81296566, 0.81158631, 0.22471231],\n",
       "       [0.79651244, 0.81745216, 0.80653354, 0.1257536 ],\n",
       "       [0.79836296, 0.80320188, 0.80407457, 0.07983646],\n",
       "       [0.79349797, 0.78833833, 0.7870289 , 0.11866572],\n",
       "       [0.76197475, 0.75989693, 0.76013654, 0.10794461],\n",
       "       [0.74544343, 0.74794369, 0.7519022 , 0.06780127],\n",
       "       [0.74463349, 0.74869144, 0.75160022, 0.07967033],\n",
       "       [0.7527436 , 0.76180665, 0.76494664, 0.07412081],\n",
       "       [0.76013495, 0.76089752, 0.72876302, 0.20922413],\n",
       "       [0.70931268, 0.72402107, 0.7174226 , 0.11541957],\n",
       "       [0.72377356, 0.72020162, 0.71898643, 0.11469774],\n",
       "       [0.72345173, 0.72274075, 0.72113264, 0.16330616],\n",
       "       [0.71121684, 0.72739401, 0.71971981, 0.13797818],\n",
       "       [0.73311735, 0.73232701, 0.71960117, 0.11702437],\n",
       "       [0.70920004, 0.70879171, 0.70314328, 0.12064265],\n",
       "       [0.7075748 , 0.73079385, 0.71897025, 0.13607435],\n",
       "       [0.72646084, 0.73387092, 0.73255933, 0.12532499],\n",
       "       [0.73518242, 0.74361857, 0.74798186, 0.12534991],\n",
       "       [0.74800734, 0.75052585, 0.75672309, 0.10799195],\n",
       "       [0.73311199, 0.73443039, 0.7187923 , 0.21795336],\n",
       "       [0.7114153 , 0.71240673, 0.71270417, 0.13119432],\n",
       "       [0.70633039, 0.7052789 , 0.70125052, 0.16644433],\n",
       "       [0.68080929, 0.69248108, 0.68565004, 0.48769651],\n",
       "       [0.68341075, 0.69358925, 0.69438588, 0.10984595]])"
      ]
     },
     "execution_count": 28,
     "metadata": {},
     "output_type": "execute_result"
    }
   ],
   "source": [
    "ip = scaler.transform(df)\n",
    "ip"
   ]
  },
  {
   "cell_type": "code",
   "execution_count": 29,
   "id": "ac4e63a3",
   "metadata": {
    "execution": {
     "iopub.execute_input": "2022-10-16T16:39:31.997956Z",
     "iopub.status.busy": "2022-10-16T16:39:31.997515Z",
     "iopub.status.idle": "2022-10-16T16:39:32.003242Z",
     "shell.execute_reply": "2022-10-16T16:39:32.002043Z"
    },
    "papermill": {
     "duration": 0.129202,
     "end_time": "2022-10-16T16:39:32.005334",
     "exception": false,
     "start_time": "2022-10-16T16:39:31.876132",
     "status": "completed"
    },
    "tags": []
   },
   "outputs": [],
   "source": [
    "X_test = []\n",
    "y_test = []\n",
    "\n",
    "for i in range(20, ip.shape[0]):\n",
    "    X_test.append(ip[i-20:i])\n",
    "    y_test.append(ip[i, 0])\n",
    "    "
   ]
  },
  {
   "cell_type": "code",
   "execution_count": 30,
   "id": "021cea24",
   "metadata": {
    "execution": {
     "iopub.execute_input": "2022-10-16T16:39:32.248845Z",
     "iopub.status.busy": "2022-10-16T16:39:32.248410Z",
     "iopub.status.idle": "2022-10-16T16:39:32.256071Z",
     "shell.execute_reply": "2022-10-16T16:39:32.255108Z"
    },
    "papermill": {
     "duration": 0.131143,
     "end_time": "2022-10-16T16:39:32.258220",
     "exception": false,
     "start_time": "2022-10-16T16:39:32.127077",
     "status": "completed"
    },
    "tags": []
   },
   "outputs": [
    {
     "data": {
      "text/plain": [
       "((35, 20, 4), (35,))"
      ]
     },
     "execution_count": 30,
     "metadata": {},
     "output_type": "execute_result"
    }
   ],
   "source": [
    "X_test = np.array(X_test)\n",
    "y_test = np.array(y_test)\n",
    "X_test.shape, y_test.shape"
   ]
  },
  {
   "cell_type": "code",
   "execution_count": 31,
   "id": "3c657259",
   "metadata": {
    "execution": {
     "iopub.execute_input": "2022-10-16T16:39:32.505577Z",
     "iopub.status.busy": "2022-10-16T16:39:32.504934Z",
     "iopub.status.idle": "2022-10-16T16:39:33.351849Z",
     "shell.execute_reply": "2022-10-16T16:39:33.350564Z"
    },
    "papermill": {
     "duration": 0.973567,
     "end_time": "2022-10-16T16:39:33.354720",
     "exception": false,
     "start_time": "2022-10-16T16:39:32.381153",
     "status": "completed"
    },
    "tags": []
   },
   "outputs": [],
   "source": [
    "y_pred = reg.predict(X_test)"
   ]
  },
  {
   "cell_type": "code",
   "execution_count": 32,
   "id": "35b4f6b1",
   "metadata": {
    "execution": {
     "iopub.execute_input": "2022-10-16T16:39:33.596986Z",
     "iopub.status.busy": "2022-10-16T16:39:33.596323Z",
     "iopub.status.idle": "2022-10-16T16:39:33.605137Z",
     "shell.execute_reply": "2022-10-16T16:39:33.604190Z"
    },
    "papermill": {
     "duration": 0.132084,
     "end_time": "2022-10-16T16:39:33.607336",
     "exception": false,
     "start_time": "2022-10-16T16:39:33.475252",
     "status": "completed"
    },
    "tags": []
   },
   "outputs": [
    {
     "data": {
      "text/plain": [
       "(array([[0.7015667 ],\n",
       "        [0.70120084],\n",
       "        [0.7015717 ],\n",
       "        [0.70179904],\n",
       "        [0.70323604],\n",
       "        [0.7052668 ],\n",
       "        [0.7075975 ],\n",
       "        [0.710813  ],\n",
       "        [0.716042  ],\n",
       "        [0.72159386],\n",
       "        [0.7267349 ],\n",
       "        [0.7313778 ],\n",
       "        [0.73633754],\n",
       "        [0.7408643 ],\n",
       "        [0.74570024],\n",
       "        [0.7517101 ],\n",
       "        [0.7570889 ],\n",
       "        [0.76423436],\n",
       "        [0.7700628 ],\n",
       "        [0.7733319 ],\n",
       "        [0.7760474 ],\n",
       "        [0.77702445],\n",
       "        [0.7767202 ],\n",
       "        [0.7760819 ],\n",
       "        [0.77456534],\n",
       "        [0.7728244 ],\n",
       "        [0.77013266],\n",
       "        [0.7670076 ],\n",
       "        [0.76345944],\n",
       "        [0.75989056],\n",
       "        [0.75721   ],\n",
       "        [0.7549819 ],\n",
       "        [0.75361836],\n",
       "        [0.7513046 ],\n",
       "        [0.7474516 ]], dtype=float32),\n",
       " array([0.73235032, 0.73823444, 0.74177993, 0.7432228 , 0.71033181,\n",
       "        0.72658957, 0.7274746 , 0.7459369 , 0.75623009, 0.75334435,\n",
       "        0.76665201, 0.80464937, 0.79651244, 0.79836296, 0.79349797,\n",
       "        0.76197475, 0.74544343, 0.74463349, 0.7527436 , 0.76013495,\n",
       "        0.70931268, 0.72377356, 0.72345173, 0.71121684, 0.73311735,\n",
       "        0.70920004, 0.7075748 , 0.72646084, 0.73518242, 0.74800734,\n",
       "        0.73311199, 0.7114153 , 0.70633039, 0.68080929, 0.68341075]))"
      ]
     },
     "execution_count": 32,
     "metadata": {},
     "output_type": "execute_result"
    }
   ],
   "source": [
    "y_pred, y_test"
   ]
  },
  {
   "cell_type": "code",
   "execution_count": 33,
   "id": "1d4ea4b8",
   "metadata": {
    "execution": {
     "iopub.execute_input": "2022-10-16T16:39:33.851125Z",
     "iopub.status.busy": "2022-10-16T16:39:33.850065Z",
     "iopub.status.idle": "2022-10-16T16:39:33.855410Z",
     "shell.execute_reply": "2022-10-16T16:39:33.854613Z"
    },
    "papermill": {
     "duration": 0.130116,
     "end_time": "2022-10-16T16:39:33.857507",
     "exception": false,
     "start_time": "2022-10-16T16:39:33.727391",
     "status": "completed"
    },
    "tags": []
   },
   "outputs": [],
   "source": [
    "scale = scaler.scale_[0] # first col was divided by this value while scaling"
   ]
  },
  {
   "cell_type": "code",
   "execution_count": 34,
   "id": "43fdc946",
   "metadata": {
    "execution": {
     "iopub.execute_input": "2022-10-16T16:39:34.101418Z",
     "iopub.status.busy": "2022-10-16T16:39:34.100738Z",
     "iopub.status.idle": "2022-10-16T16:39:34.105542Z",
     "shell.execute_reply": "2022-10-16T16:39:34.104757Z"
    },
    "papermill": {
     "duration": 0.129705,
     "end_time": "2022-10-16T16:39:34.107541",
     "exception": false,
     "start_time": "2022-10-16T16:39:33.977836",
     "status": "completed"
    },
    "tags": []
   },
   "outputs": [],
   "source": [
    "y_pred = y_pred * scale\n",
    "y_test = y_test * scale"
   ]
  },
  {
   "cell_type": "code",
   "execution_count": 35,
   "id": "5d82d56c",
   "metadata": {
    "execution": {
     "iopub.execute_input": "2022-10-16T16:39:34.351709Z",
     "iopub.status.busy": "2022-10-16T16:39:34.351004Z",
     "iopub.status.idle": "2022-10-16T16:39:34.621139Z",
     "shell.execute_reply": "2022-10-16T16:39:34.620275Z"
    },
    "papermill": {
     "duration": 0.394086,
     "end_time": "2022-10-16T16:39:34.623202",
     "exception": false,
     "start_time": "2022-10-16T16:39:34.229116",
     "status": "completed"
    },
    "tags": []
   },
   "outputs": [
    {
     "data": {
      "image/png": "[encoded data removed]",
      "text/plain": [
       "<Figure size 1008x288 with 1 Axes>"
      ]
     },
     "metadata": {},
     "output_type": "display_data"
    }
   ],
   "source": [
    "# visualization\n",
    "plt.figure(figsize = (14,4))\n",
    "plt.title(\"STOCK PREDICTION\")\n",
    "plt.plot(y_test, color = 'red', label = 'Real Price')\n",
    "plt.plot(y_pred, color = 'blue', label = 'Predicted Price')\n",
    "plt.xlabel('time')\n",
    "plt.ylabel('stock price')\n",
    "plt.legend()\n",
    "plt.show()"
   ]
  },
  {
   "cell_type": "markdown",
   "id": "76300fb7",
   "metadata": {
    "papermill": {
     "duration": 0.121021,
     "end_time": "2022-10-16T16:39:34.864607",
     "exception": false,
     "start_time": "2022-10-16T16:39:34.743586",
     "status": "completed"
    },
    "tags": []
   },
   "source": [
    "**LINEAR REGRESSION**\n",
    "\n",
    "**As the goal is for forecasting values, linear regression is used to fit a predictive model to an observed dataset of a and y values**"
   ]
  },
  {
   "cell_type": "code",
   "execution_count": 36,
   "id": "b7df01f6",
   "metadata": {
    "execution": {
     "iopub.execute_input": "2022-10-16T16:39:35.111306Z",
     "iopub.status.busy": "2022-10-16T16:39:35.110685Z",
     "iopub.status.idle": "2022-10-16T16:39:35.128974Z",
     "shell.execute_reply": "2022-10-16T16:39:35.127585Z"
    },
    "papermill": {
     "duration": 0.145124,
     "end_time": "2022-10-16T16:39:35.131060",
     "exception": false,
     "start_time": "2022-10-16T16:39:34.985936",
     "status": "completed"
    },
    "tags": []
   },
   "outputs": [
    {
     "data": {
      "text/html": [
       "<div>\n",
       "<style scoped>\n",
       "    .dataframe tbody tr th:only-of-type {\n",
       "        vertical-align: middle;\n",
       "    }\n",
       "\n",
       "    .dataframe tbody tr th {\n",
       "        vertical-align: top;\n",
       "    }\n",
       "\n",
       "    .dataframe thead th {\n",
       "        text-align: right;\n",
       "    }\n",
       "</style>\n",
       "<table border=\"1\" class=\"dataframe\">\n",
       "  <thead>\n",
       "    <tr style=\"text-align: right;\">\n",
       "      <th></th>\n",
       "      <th>Date</th>\n",
       "      <th>Open</th>\n",
       "      <th>High</th>\n",
       "      <th>Low</th>\n",
       "      <th>Close</th>\n",
       "      <th>Volume</th>\n",
       "    </tr>\n",
       "  </thead>\n",
       "  <tbody>\n",
       "    <tr>\n",
       "      <th>0</th>\n",
       "      <td>2016-01-04</td>\n",
       "      <td>1099.59</td>\n",
       "      <td>1110.75</td>\n",
       "      <td>1093.85</td>\n",
       "      <td>1109.64</td>\n",
       "      <td>66545000</td>\n",
       "    </tr>\n",
       "    <tr>\n",
       "      <th>1</th>\n",
       "      <td>2016-01-05</td>\n",
       "      <td>1117.47</td>\n",
       "      <td>1130.57</td>\n",
       "      <td>1112.75</td>\n",
       "      <td>1125.85</td>\n",
       "      <td>41227200</td>\n",
       "    </tr>\n",
       "    <tr>\n",
       "      <th>2</th>\n",
       "      <td>2016-01-06</td>\n",
       "      <td>1116.63</td>\n",
       "      <td>1138.68</td>\n",
       "      <td>1116.10</td>\n",
       "      <td>1133.04</td>\n",
       "      <td>42316800</td>\n",
       "    </tr>\n",
       "    <tr>\n",
       "      <th>3</th>\n",
       "      <td>2016-01-07</td>\n",
       "      <td>1122.00</td>\n",
       "      <td>1149.76</td>\n",
       "      <td>1117.56</td>\n",
       "      <td>1143.37</td>\n",
       "      <td>64899600</td>\n",
       "    </tr>\n",
       "    <tr>\n",
       "      <th>4</th>\n",
       "      <td>2016-01-08</td>\n",
       "      <td>1145.64</td>\n",
       "      <td>1149.96</td>\n",
       "      <td>1120.93</td>\n",
       "      <td>1122.88</td>\n",
       "      <td>52138900</td>\n",
       "    </tr>\n",
       "  </tbody>\n",
       "</table>\n",
       "</div>"
      ],
      "text/plain": [
       "         Date     Open     High      Low    Close    Volume\n",
       "0  2016-01-04  1099.59  1110.75  1093.85  1109.64  66545000\n",
       "1  2016-01-05  1117.47  1130.57  1112.75  1125.85  41227200\n",
       "2  2016-01-06  1116.63  1138.68  1116.10  1133.04  42316800\n",
       "3  2016-01-07  1122.00  1149.76  1117.56  1143.37  64899600\n",
       "4  2016-01-08  1145.64  1149.96  1120.93  1122.88  52138900"
      ]
     },
     "execution_count": 36,
     "metadata": {},
     "output_type": "execute_result"
    }
   ],
   "source": [
    "df=pd.read_csv('../input/data-analytics-ue20cs312/train.csv')\n",
    "df.head()"
   ]
  },
  {
   "cell_type": "code",
   "execution_count": 37,
   "id": "5df6047c",
   "metadata": {
    "execution": {
     "iopub.execute_input": "2022-10-16T16:39:35.375893Z",
     "iopub.status.busy": "2022-10-16T16:39:35.375101Z",
     "iopub.status.idle": "2022-10-16T16:39:35.401862Z",
     "shell.execute_reply": "2022-10-16T16:39:35.400652Z"
    },
    "papermill": {
     "duration": 0.152572,
     "end_time": "2022-10-16T16:39:35.404268",
     "exception": false,
     "start_time": "2022-10-16T16:39:35.251696",
     "status": "completed"
    },
    "tags": []
   },
   "outputs": [
    {
     "data": {
      "text/html": [
       "<div>\n",
       "<style scoped>\n",
       "    .dataframe tbody tr th:only-of-type {\n",
       "        vertical-align: middle;\n",
       "    }\n",
       "\n",
       "    .dataframe tbody tr th {\n",
       "        vertical-align: top;\n",
       "    }\n",
       "\n",
       "    .dataframe thead th {\n",
       "        text-align: right;\n",
       "    }\n",
       "</style>\n",
       "<table border=\"1\" class=\"dataframe\">\n",
       "  <thead>\n",
       "    <tr style=\"text-align: right;\">\n",
       "      <th></th>\n",
       "      <th>Open</th>\n",
       "      <th>High</th>\n",
       "      <th>Low</th>\n",
       "      <th>Close</th>\n",
       "      <th>Volume</th>\n",
       "    </tr>\n",
       "  </thead>\n",
       "  <tbody>\n",
       "    <tr>\n",
       "      <th>count</th>\n",
       "      <td>1655.000000</td>\n",
       "      <td>1655.000000</td>\n",
       "      <td>1655.000000</td>\n",
       "      <td>1655.000000</td>\n",
       "      <td>1.655000e+03</td>\n",
       "    </tr>\n",
       "    <tr>\n",
       "      <th>mean</th>\n",
       "      <td>1854.826157</td>\n",
       "      <td>1870.274538</td>\n",
       "      <td>1840.560036</td>\n",
       "      <td>1855.569511</td>\n",
       "      <td>3.346129e+07</td>\n",
       "    </tr>\n",
       "    <tr>\n",
       "      <th>std</th>\n",
       "      <td>537.945756</td>\n",
       "      <td>543.761197</td>\n",
       "      <td>532.191764</td>\n",
       "      <td>537.712649</td>\n",
       "      <td>1.459129e+07</td>\n",
       "    </tr>\n",
       "    <tr>\n",
       "      <th>min</th>\n",
       "      <td>1090.360000</td>\n",
       "      <td>1106.850000</td>\n",
       "      <td>1071.790000</td>\n",
       "      <td>1087.520000</td>\n",
       "      <td>7.298300e+06</td>\n",
       "    </tr>\n",
       "    <tr>\n",
       "      <th>25%</th>\n",
       "      <td>1377.775000</td>\n",
       "      <td>1386.505000</td>\n",
       "      <td>1371.790000</td>\n",
       "      <td>1378.395000</td>\n",
       "      <td>2.453330e+07</td>\n",
       "    </tr>\n",
       "    <tr>\n",
       "      <th>50%</th>\n",
       "      <td>1699.260000</td>\n",
       "      <td>1714.270000</td>\n",
       "      <td>1687.490000</td>\n",
       "      <td>1701.650000</td>\n",
       "      <td>2.980690e+07</td>\n",
       "    </tr>\n",
       "    <tr>\n",
       "      <th>75%</th>\n",
       "      <td>2335.090000</td>\n",
       "      <td>2365.015000</td>\n",
       "      <td>2313.790000</td>\n",
       "      <td>2344.515000</td>\n",
       "      <td>3.790005e+07</td>\n",
       "    </tr>\n",
       "    <tr>\n",
       "      <th>max</th>\n",
       "      <td>2954.700000</td>\n",
       "      <td>2965.760000</td>\n",
       "      <td>2926.220000</td>\n",
       "      <td>2941.900000</td>\n",
       "      <td>1.276869e+08</td>\n",
       "    </tr>\n",
       "  </tbody>\n",
       "</table>\n",
       "</div>"
      ],
      "text/plain": [
       "              Open         High          Low        Close        Volume\n",
       "count  1655.000000  1655.000000  1655.000000  1655.000000  1.655000e+03\n",
       "mean   1854.826157  1870.274538  1840.560036  1855.569511  3.346129e+07\n",
       "std     537.945756   543.761197   532.191764   537.712649  1.459129e+07\n",
       "min    1090.360000  1106.850000  1071.790000  1087.520000  7.298300e+06\n",
       "25%    1377.775000  1386.505000  1371.790000  1378.395000  2.453330e+07\n",
       "50%    1699.260000  1714.270000  1687.490000  1701.650000  2.980690e+07\n",
       "75%    2335.090000  2365.015000  2313.790000  2344.515000  3.790005e+07\n",
       "max    2954.700000  2965.760000  2926.220000  2941.900000  1.276869e+08"
      ]
     },
     "execution_count": 37,
     "metadata": {},
     "output_type": "execute_result"
    }
   ],
   "source": [
    "df['Date'] = pd.to_datetime(df.Date)\n",
    "df.describe()"
   ]
  },
  {
   "cell_type": "code",
   "execution_count": 38,
   "id": "3b7c97b0",
   "metadata": {
    "execution": {
     "iopub.execute_input": "2022-10-16T16:39:35.648919Z",
     "iopub.status.busy": "2022-10-16T16:39:35.648488Z",
     "iopub.status.idle": "2022-10-16T16:39:35.654049Z",
     "shell.execute_reply": "2022-10-16T16:39:35.652864Z"
    },
    "papermill": {
     "duration": 0.132844,
     "end_time": "2022-10-16T16:39:35.657737",
     "exception": false,
     "start_time": "2022-10-16T16:39:35.524893",
     "status": "completed"
    },
    "tags": []
   },
   "outputs": [
    {
     "name": "stdout",
     "output_type": "stream",
     "text": [
      "1655\n"
     ]
    }
   ],
   "source": [
    "print(len(df))"
   ]
  },
  {
   "cell_type": "code",
   "execution_count": 39,
   "id": "7ecc6605",
   "metadata": {
    "execution": {
     "iopub.execute_input": "2022-10-16T16:39:35.959944Z",
     "iopub.status.busy": "2022-10-16T16:39:35.958718Z",
     "iopub.status.idle": "2022-10-16T16:39:35.982544Z",
     "shell.execute_reply": "2022-10-16T16:39:35.981459Z"
    },
    "papermill": {
     "duration": 0.150384,
     "end_time": "2022-10-16T16:39:35.984824",
     "exception": false,
     "start_time": "2022-10-16T16:39:35.834440",
     "status": "completed"
    },
    "tags": []
   },
   "outputs": [
    {
     "data": {
      "text/plain": [
       "(1241, 4)"
      ]
     },
     "execution_count": 39,
     "metadata": {},
     "output_type": "execute_result"
    }
   ],
   "source": [
    "x = df[['Open','High','Low','Volume']]\n",
    "y = df['Close']\n",
    "from sklearn.model_selection import train_test_split\n",
    "x_train,x_test,y_train,y_test = train_test_split(x,y,random_state = 0)\n",
    "\n",
    "x_train.shape\n",
    "\n"
   ]
  },
  {
   "cell_type": "code",
   "execution_count": 40,
   "id": "9037179f",
   "metadata": {
    "execution": {
     "iopub.execute_input": "2022-10-16T16:39:36.230724Z",
     "iopub.status.busy": "2022-10-16T16:39:36.229891Z",
     "iopub.status.idle": "2022-10-16T16:39:36.236942Z",
     "shell.execute_reply": "2022-10-16T16:39:36.236059Z"
    },
    "papermill": {
     "duration": 0.132286,
     "end_time": "2022-10-16T16:39:36.239044",
     "exception": false,
     "start_time": "2022-10-16T16:39:36.106758",
     "status": "completed"
    },
    "tags": []
   },
   "outputs": [
    {
     "data": {
      "text/plain": [
       "(414, 4)"
      ]
     },
     "execution_count": 40,
     "metadata": {},
     "output_type": "execute_result"
    }
   ],
   "source": [
    "x_test.shape"
   ]
  },
  {
   "cell_type": "code",
   "execution_count": 41,
   "id": "6526e66a",
   "metadata": {
    "execution": {
     "iopub.execute_input": "2022-10-16T16:39:36.483111Z",
     "iopub.status.busy": "2022-10-16T16:39:36.482353Z",
     "iopub.status.idle": "2022-10-16T16:39:36.546584Z",
     "shell.execute_reply": "2022-10-16T16:39:36.545647Z"
    },
    "papermill": {
     "duration": 0.189582,
     "end_time": "2022-10-16T16:39:36.549159",
     "exception": false,
     "start_time": "2022-10-16T16:39:36.359577",
     "status": "completed"
    },
    "tags": []
   },
   "outputs": [],
   "source": [
    "from sklearn.linear_model import LinearRegression\n",
    "from sklearn.metrics import confusion_matrix, accuracy_score\n",
    "regressor = LinearRegression()"
   ]
  },
  {
   "cell_type": "code",
   "execution_count": 42,
   "id": "5eebc502",
   "metadata": {
    "execution": {
     "iopub.execute_input": "2022-10-16T16:39:36.791924Z",
     "iopub.status.busy": "2022-10-16T16:39:36.791506Z",
     "iopub.status.idle": "2022-10-16T16:39:36.814780Z",
     "shell.execute_reply": "2022-10-16T16:39:36.813887Z"
    },
    "papermill": {
     "duration": 0.147156,
     "end_time": "2022-10-16T16:39:36.816944",
     "exception": false,
     "start_time": "2022-10-16T16:39:36.669788",
     "status": "completed"
    },
    "tags": []
   },
   "outputs": [
    {
     "data": {
      "text/plain": [
       "LinearRegression()"
      ]
     },
     "execution_count": 42,
     "metadata": {},
     "output_type": "execute_result"
    }
   ],
   "source": [
    "regressor.fit(x_train,y_train)\n"
   ]
  },
  {
   "cell_type": "code",
   "execution_count": 43,
   "id": "9705e67d",
   "metadata": {
    "execution": {
     "iopub.execute_input": "2022-10-16T16:39:37.061491Z",
     "iopub.status.busy": "2022-10-16T16:39:37.060705Z",
     "iopub.status.idle": "2022-10-16T16:39:37.067335Z",
     "shell.execute_reply": "2022-10-16T16:39:37.066231Z"
    },
    "papermill": {
     "duration": 0.13141,
     "end_time": "2022-10-16T16:39:37.069375",
     "exception": false,
     "start_time": "2022-10-16T16:39:36.937965",
     "status": "completed"
    },
    "tags": []
   },
   "outputs": [
    {
     "name": "stdout",
     "output_type": "stream",
     "text": [
      "[-6.77689172e-01  8.44123368e-01  8.32606407e-01 -6.60947452e-09]\n"
     ]
    }
   ],
   "source": [
    "print(regressor.coef_)\n"
   ]
  },
  {
   "cell_type": "code",
   "execution_count": 44,
   "id": "f4b25572",
   "metadata": {
    "execution": {
     "iopub.execute_input": "2022-10-16T16:39:37.313874Z",
     "iopub.status.busy": "2022-10-16T16:39:37.313180Z",
     "iopub.status.idle": "2022-10-16T16:39:37.318558Z",
     "shell.execute_reply": "2022-10-16T16:39:37.317099Z"
    },
    "papermill": {
     "duration": 0.130661,
     "end_time": "2022-10-16T16:39:37.321443",
     "exception": false,
     "start_time": "2022-10-16T16:39:37.190782",
     "status": "completed"
    },
    "tags": []
   },
   "outputs": [
    {
     "name": "stdout",
     "output_type": "stream",
     "text": [
      "1.6203399275236734\n"
     ]
    }
   ],
   "source": [
    "print(regressor.intercept_)\n"
   ]
  },
  {
   "cell_type": "code",
   "execution_count": 45,
   "id": "4c5d1305",
   "metadata": {
    "execution": {
     "iopub.execute_input": "2022-10-16T16:39:37.571554Z",
     "iopub.status.busy": "2022-10-16T16:39:37.570276Z",
     "iopub.status.idle": "2022-10-16T16:39:37.580188Z",
     "shell.execute_reply": "2022-10-16T16:39:37.579176Z"
    },
    "papermill": {
     "duration": 0.137233,
     "end_time": "2022-10-16T16:39:37.582539",
     "exception": false,
     "start_time": "2022-10-16T16:39:37.445306",
     "status": "completed"
    },
    "tags": []
   },
   "outputs": [],
   "source": [
    "df_test=pd.read_csv('../input/data-analytics-ue20cs312/test.csv')\n",
    "x_test=df_test[['Open','High','Low','Volume']]"
   ]
  },
  {
   "cell_type": "code",
   "execution_count": 46,
   "id": "694a4234",
   "metadata": {
    "execution": {
     "iopub.execute_input": "2022-10-16T16:39:37.829221Z",
     "iopub.status.busy": "2022-10-16T16:39:37.828274Z",
     "iopub.status.idle": "2022-10-16T16:39:37.835148Z",
     "shell.execute_reply": "2022-10-16T16:39:37.834086Z"
    },
    "papermill": {
     "duration": 0.132912,
     "end_time": "2022-10-16T16:39:37.837509",
     "exception": false,
     "start_time": "2022-10-16T16:39:37.704597",
     "status": "completed"
    },
    "tags": []
   },
   "outputs": [],
   "source": [
    "forecast_value = regressor.predict(x_test)\n"
   ]
  },
  {
   "cell_type": "code",
   "execution_count": 47,
   "id": "8e541b84",
   "metadata": {
    "execution": {
     "iopub.execute_input": "2022-10-16T16:39:38.080627Z",
     "iopub.status.busy": "2022-10-16T16:39:38.080183Z",
     "iopub.status.idle": "2022-10-16T16:39:38.086907Z",
     "shell.execute_reply": "2022-10-16T16:39:38.086084Z"
    },
    "papermill": {
     "duration": 0.130838,
     "end_time": "2022-10-16T16:39:38.088802",
     "exception": false,
     "start_time": "2022-10-16T16:39:37.957964",
     "status": "completed"
    },
    "tags": []
   },
   "outputs": [
    {
     "data": {
      "text/plain": [
       "array([2485.89160724, 2473.92397589, 2481.41011608, 2438.2943618 ,\n",
       "       2434.04457471, 2459.68462458, 2440.24540058, 2483.17844434,\n",
       "       2479.22169247, 2520.86183157, 2535.34230411, 2601.29884502,\n",
       "       2610.89659859, 2582.43759423, 2538.9115212 , 2492.59696072,\n",
       "       2482.04496222, 2483.76590048, 2514.71039227, 2447.96987462,\n",
       "       2436.88119489, 2415.03255184, 2422.69852315, 2443.29700513,\n",
       "       2423.20106716, 2391.07480338, 2452.07756628, 2454.03475097,\n",
       "       2482.12356386, 2490.26892147, 2425.17914706, 2408.70217171,\n",
       "       2386.22942173, 2374.04925218, 2386.29023535])"
      ]
     },
     "execution_count": 47,
     "metadata": {},
     "output_type": "execute_result"
    }
   ],
   "source": [
    "forecast_value"
   ]
  },
  {
   "cell_type": "code",
   "execution_count": 48,
   "id": "e1df673e",
   "metadata": {
    "execution": {
     "iopub.execute_input": "2022-10-16T16:39:38.335775Z",
     "iopub.status.busy": "2022-10-16T16:39:38.335010Z",
     "iopub.status.idle": "2022-10-16T16:39:38.340643Z",
     "shell.execute_reply": "2022-10-16T16:39:38.339542Z"
    },
    "papermill": {
     "duration": 0.131835,
     "end_time": "2022-10-16T16:39:38.343046",
     "exception": false,
     "start_time": "2022-10-16T16:39:38.211211",
     "status": "completed"
    },
    "tags": []
   },
   "outputs": [],
   "source": [
    "ans=pd.DataFrame({'Date':df_test['Date'],'Close':forecast_value})\n"
   ]
  },
  {
   "cell_type": "code",
   "execution_count": 49,
   "id": "fc421300",
   "metadata": {
    "execution": {
     "iopub.execute_input": "2022-10-16T16:39:38.588342Z",
     "iopub.status.busy": "2022-10-16T16:39:38.587510Z",
     "iopub.status.idle": "2022-10-16T16:39:38.597783Z",
     "shell.execute_reply": "2022-10-16T16:39:38.596904Z"
    },
    "papermill": {
     "duration": 0.13548,
     "end_time": "2022-10-16T16:39:38.599955",
     "exception": false,
     "start_time": "2022-10-16T16:39:38.464475",
     "status": "completed"
    },
    "tags": []
   },
   "outputs": [
    {
     "data": {
      "text/html": [
       "<div>\n",
       "<style scoped>\n",
       "    .dataframe tbody tr th:only-of-type {\n",
       "        vertical-align: middle;\n",
       "    }\n",
       "\n",
       "    .dataframe tbody tr th {\n",
       "        vertical-align: top;\n",
       "    }\n",
       "\n",
       "    .dataframe thead th {\n",
       "        text-align: right;\n",
       "    }\n",
       "</style>\n",
       "<table border=\"1\" class=\"dataframe\">\n",
       "  <thead>\n",
       "    <tr style=\"text-align: right;\">\n",
       "      <th></th>\n",
       "      <th>Date</th>\n",
       "      <th>Close</th>\n",
       "    </tr>\n",
       "  </thead>\n",
       "  <tbody>\n",
       "    <tr>\n",
       "      <th>0</th>\n",
       "      <td>2022-08-01</td>\n",
       "      <td>2485.891607</td>\n",
       "    </tr>\n",
       "    <tr>\n",
       "      <th>1</th>\n",
       "      <td>2022-08-02</td>\n",
       "      <td>2473.923976</td>\n",
       "    </tr>\n",
       "    <tr>\n",
       "      <th>2</th>\n",
       "      <td>2022-08-03</td>\n",
       "      <td>2481.410116</td>\n",
       "    </tr>\n",
       "    <tr>\n",
       "      <th>3</th>\n",
       "      <td>2022-08-04</td>\n",
       "      <td>2438.294362</td>\n",
       "    </tr>\n",
       "    <tr>\n",
       "      <th>4</th>\n",
       "      <td>2022-08-05</td>\n",
       "      <td>2434.044575</td>\n",
       "    </tr>\n",
       "  </tbody>\n",
       "</table>\n",
       "</div>"
      ],
      "text/plain": [
       "         Date        Close\n",
       "0  2022-08-01  2485.891607\n",
       "1  2022-08-02  2473.923976\n",
       "2  2022-08-03  2481.410116\n",
       "3  2022-08-04  2438.294362\n",
       "4  2022-08-05  2434.044575"
      ]
     },
     "execution_count": 49,
     "metadata": {},
     "output_type": "execute_result"
    }
   ],
   "source": [
    "ans.head()"
   ]
  },
  {
   "cell_type": "code",
   "execution_count": 50,
   "id": "4d1add85",
   "metadata": {
    "execution": {
     "iopub.execute_input": "2022-10-16T16:39:38.897147Z",
     "iopub.status.busy": "2022-10-16T16:39:38.896404Z",
     "iopub.status.idle": "2022-10-16T16:39:38.903664Z",
     "shell.execute_reply": "2022-10-16T16:39:38.902862Z"
    },
    "papermill": {
     "duration": 0.132824,
     "end_time": "2022-10-16T16:39:38.905857",
     "exception": false,
     "start_time": "2022-10-16T16:39:38.773033",
     "status": "completed"
    },
    "tags": []
   },
   "outputs": [],
   "source": [
    "ans.to_csv('./ans.csv',index=False)"
   ]
  },
  {
   "cell_type": "code",
   "execution_count": 51,
   "id": "618332aa",
   "metadata": {
    "execution": {
     "iopub.execute_input": "2022-10-16T16:39:39.151050Z",
     "iopub.status.busy": "2022-10-16T16:39:39.150318Z",
     "iopub.status.idle": "2022-10-16T16:39:39.161100Z",
     "shell.execute_reply": "2022-10-16T16:39:39.159798Z"
    },
    "papermill": {
     "duration": 0.13625,
     "end_time": "2022-10-16T16:39:39.163393",
     "exception": false,
     "start_time": "2022-10-16T16:39:39.027143",
     "status": "completed"
    },
    "tags": []
   },
   "outputs": [
    {
     "name": "stdout",
     "output_type": "stream",
     "text": [
      "       Open     High      Low    Volume\n",
      "0   2455.71  2500.26  2447.87  24327600\n",
      "1   2466.68  2494.73  2447.99  19076300\n",
      "2   2473.29  2507.59  2449.39  27459700\n",
      "3   2475.98  2487.75  2419.88  23699600\n",
      "4   2414.66  2444.17  2409.01  18912400\n",
      "5   2444.97  2475.18  2433.03  18104900\n",
      "6   2446.62  2458.88  2427.54  16715500\n",
      "7   2481.04  2501.79  2463.66  22158000\n",
      "8   2500.23  2508.87  2467.32  18470800\n",
      "9   2494.85  2535.06  2486.40  18402700\n",
      "10  2519.66  2547.44  2511.43  17864800\n",
      "11  2590.50  2618.08  2576.82  34351100\n",
      "12  2575.33  2626.42  2567.45  22437600\n",
      "13  2578.78  2599.93  2562.89  16909700\n",
      "14  2569.71  2572.30  2531.28  21584300\n",
      "15  2510.94  2519.43  2481.41  20293600\n",
      "16  2480.12  2497.21  2466.14  15460800\n",
      "17  2478.61  2498.60  2465.58  16889700\n",
      "18  2493.73  2522.98  2490.33  16221600\n",
      "19  2507.51  2521.29  2423.23  32486500\n",
      "20  2412.76  2452.74  2402.20  21193500\n",
      "21  2439.72  2445.64  2405.10  21106600\n",
      "22  2439.12  2450.36  2409.08  26958500\n",
      "23  2416.31  2459.01  2406.46  23909300\n",
      "24  2457.14  2468.18  2406.24  21386700\n",
      "25  2412.55  2424.43  2375.72  21822300\n",
      "26  2409.52  2465.33  2405.07  23680100\n",
      "27  2444.73  2471.05  2430.27  22386000\n",
      "28  2460.99  2489.17  2458.87  22389000\n",
      "29  2484.90  2502.01  2475.08  20299300\n",
      "30  2457.13  2472.09  2404.74  33537400\n",
      "31  2416.68  2431.15  2393.45  23092600\n",
      "32  2407.20  2417.90  2372.21  27336300\n",
      "33  2359.62  2394.11  2343.28  66011400\n",
      "34  2364.47  2396.17  2359.48  20522500\n"
     ]
    }
   ],
   "source": [
    "print(x_test)\n"
   ]
  },
  {
   "cell_type": "code",
   "execution_count": 52,
   "id": "c076ceb4",
   "metadata": {
    "execution": {
     "iopub.execute_input": "2022-10-16T16:39:39.409939Z",
     "iopub.status.busy": "2022-10-16T16:39:39.409483Z",
     "iopub.status.idle": "2022-10-16T16:39:39.415133Z",
     "shell.execute_reply": "2022-10-16T16:39:39.414367Z"
    },
    "papermill": {
     "duration": 0.131551,
     "end_time": "2022-10-16T16:39:39.417124",
     "exception": false,
     "start_time": "2022-10-16T16:39:39.285573",
     "status": "completed"
    },
    "tags": []
   },
   "outputs": [
    {
     "data": {
      "text/plain": [
       "(35,)"
      ]
     },
     "execution_count": 52,
     "metadata": {},
     "output_type": "execute_result"
    }
   ],
   "source": [
    "forecast_value.shape\n"
   ]
  },
  {
   "cell_type": "code",
   "execution_count": 53,
   "id": "f3470a5c",
   "metadata": {
    "execution": {
     "iopub.execute_input": "2022-10-16T16:39:39.665265Z",
     "iopub.status.busy": "2022-10-16T16:39:39.664576Z",
     "iopub.status.idle": "2022-10-16T16:39:39.976217Z",
     "shell.execute_reply": "2022-10-16T16:39:39.974857Z"
    },
    "papermill": {
     "duration": 0.436683,
     "end_time": "2022-10-16T16:39:39.978277",
     "exception": true,
     "start_time": "2022-10-16T16:39:39.541594",
     "status": "failed"
    },
    "tags": []
   },
   "outputs": [
    {
     "ename": "NameError",
     "evalue": "name 'dfr' is not defined",
     "output_type": "error",
     "traceback": [
      "\u001b[0;31m---------------------------------------------------------------------------\u001b[0m",
      "\u001b[0;31mNameError\u001b[0m                                 Traceback (most recent call last)",
      "\u001b[0;32m/tmp/ipykernel_19/2449277604.py\u001b[0m in \u001b[0;36m<module>\u001b[0;34m\u001b[0m\n\u001b[0;32m----> 1\u001b[0;31m \u001b[0mprint\u001b[0m\u001b[0;34m(\u001b[0m\u001b[0mdfr\u001b[0m\u001b[0;34m)\u001b[0m\u001b[0;34m\u001b[0m\u001b[0;34m\u001b[0m\u001b[0m\n\u001b[0m",
      "\u001b[0;31mNameError\u001b[0m: name 'dfr' is not defined"
     ]
    }
   ],
   "source": [
    "print(dfr)"
   ]
  },
  {
   "cell_type": "code",
   "execution_count": null,
   "id": "03a98724",
   "metadata": {
    "execution": {
     "iopub.execute_input": "2022-10-16T16:23:00.257673Z",
     "iopub.status.busy": "2022-10-16T16:23:00.257360Z",
     "iopub.status.idle": "2022-10-16T16:23:00.271468Z",
     "shell.execute_reply": "2022-10-16T16:23:00.270460Z",
     "shell.execute_reply.started": "2022-10-16T16:23:00.257646Z"
    },
    "papermill": {
     "duration": null,
     "end_time": null,
     "exception": null,
     "start_time": null,
     "status": "pending"
    },
    "tags": []
   },
   "outputs": [],
   "source": [
    "dfr.head(10)"
   ]
  },
  {
   "cell_type": "markdown",
   "id": "3343b213",
   "metadata": {
    "papermill": {
     "duration": null,
     "end_time": null,
     "exception": null,
     "start_time": null,
     "status": "pending"
    },
    "tags": []
   },
   "source": [
    "**TIME SERIES**"
   ]
  },
  {
   "cell_type": "code",
   "execution_count": null,
   "id": "8e1cb2a7",
   "metadata": {
    "execution": {
     "iopub.execute_input": "2022-10-16T16:23:00.273241Z",
     "iopub.status.busy": "2022-10-16T16:23:00.272721Z",
     "iopub.status.idle": "2022-10-16T16:23:10.685260Z",
     "shell.execute_reply": "2022-10-16T16:23:10.683905Z",
     "shell.execute_reply.started": "2022-10-16T16:23:00.273211Z"
    },
    "papermill": {
     "duration": null,
     "end_time": null,
     "exception": null,
     "start_time": null,
     "status": "pending"
    },
    "tags": []
   },
   "outputs": [],
   "source": [
    "pip install pmdarima\n"
   ]
  },
  {
   "cell_type": "code",
   "execution_count": null,
   "id": "5b1793ed",
   "metadata": {
    "execution": {
     "iopub.execute_input": "2022-10-16T16:23:10.688372Z",
     "iopub.status.busy": "2022-10-16T16:23:10.687879Z",
     "iopub.status.idle": "2022-10-16T16:23:10.709527Z",
     "shell.execute_reply": "2022-10-16T16:23:10.708765Z",
     "shell.execute_reply.started": "2022-10-16T16:23:10.688322Z"
    },
    "papermill": {
     "duration": null,
     "end_time": null,
     "exception": null,
     "start_time": null,
     "status": "pending"
    },
    "tags": []
   },
   "outputs": [],
   "source": [
    "import numpy as np\n",
    "import pandas as pd\n",
    "import matplotlib.pyplot as plt\n",
    "import os\n",
    "import warnings\n",
    "warnings.filterwarnings('ignore')\n",
    "import matplotlib.pyplot as plt\n",
    "from statsmodels.tsa.stattools import adfuller\n",
    "from statsmodels.tsa.seasonal import seasonal_decompose\n",
    "from statsmodels.tsa.arima_model import ARIMA\n",
    "from pmdarima.arima import auto_arima\n",
    "from sklearn.metrics import mean_squared_error, mean_absolute_error\n",
    "import math\n",
    "\n",
    "train=pd.read_csv('../input/data-analytics-ue20cs312/train.csv')\n",
    "test=pd.read_csv('../input/data-analytics-ue20cs312/test.csv')\n",
    "train\n",
    "df=test"
   ]
  },
  {
   "cell_type": "code",
   "execution_count": null,
   "id": "b098a66c",
   "metadata": {
    "execution": {
     "iopub.execute_input": "2022-10-16T16:23:10.711380Z",
     "iopub.status.busy": "2022-10-16T16:23:10.710549Z",
     "iopub.status.idle": "2022-10-16T16:23:10.716055Z",
     "shell.execute_reply": "2022-10-16T16:23:10.715038Z",
     "shell.execute_reply.started": "2022-10-16T16:23:10.711351Z"
    },
    "papermill": {
     "duration": null,
     "end_time": null,
     "exception": null,
     "start_time": null,
     "status": "pending"
    },
    "tags": []
   },
   "outputs": [],
   "source": [
    "dateparse = lambda dates: pd.datetime.strptime(dates, '%Y-%m-%d')"
   ]
  },
  {
   "cell_type": "code",
   "execution_count": null,
   "id": "1bb2ff62",
   "metadata": {
    "execution": {
     "iopub.execute_input": "2022-10-16T16:23:10.717667Z",
     "iopub.status.busy": "2022-10-16T16:23:10.717373Z",
     "iopub.status.idle": "2022-10-16T16:23:10.755840Z",
     "shell.execute_reply": "2022-10-16T16:23:10.755049Z",
     "shell.execute_reply.started": "2022-10-16T16:23:10.717639Z"
    },
    "papermill": {
     "duration": null,
     "end_time": null,
     "exception": null,
     "start_time": null,
     "status": "pending"
    },
    "tags": []
   },
   "outputs": [],
   "source": [
    "t1= pd.read_csv('../input/data-analytics-ue20cs312/train.csv',sep=',', index_col='Date', parse_dates=['Date'], date_parser=dateparse).fillna(0)"
   ]
  },
  {
   "cell_type": "code",
   "execution_count": null,
   "id": "c51ca9e9",
   "metadata": {
    "execution": {
     "iopub.execute_input": "2022-10-16T16:23:10.757519Z",
     "iopub.status.busy": "2022-10-16T16:23:10.757196Z",
     "iopub.status.idle": "2022-10-16T16:23:10.778316Z",
     "shell.execute_reply": "2022-10-16T16:23:10.777347Z",
     "shell.execute_reply.started": "2022-10-16T16:23:10.757486Z"
    },
    "papermill": {
     "duration": null,
     "end_time": null,
     "exception": null,
     "start_time": null,
     "status": "pending"
    },
    "tags": []
   },
   "outputs": [],
   "source": [
    "t1"
   ]
  },
  {
   "cell_type": "code",
   "execution_count": null,
   "id": "d83c5cad",
   "metadata": {
    "execution": {
     "iopub.execute_input": "2022-10-16T16:23:10.780088Z",
     "iopub.status.busy": "2022-10-16T16:23:10.779643Z",
     "iopub.status.idle": "2022-10-16T16:23:11.170215Z",
     "shell.execute_reply": "2022-10-16T16:23:11.169053Z",
     "shell.execute_reply.started": "2022-10-16T16:23:10.780039Z"
    },
    "papermill": {
     "duration": null,
     "end_time": null,
     "exception": null,
     "start_time": null,
     "status": "pending"
    },
    "tags": []
   },
   "outputs": [],
   "source": [
    "#plot close price\n",
    "plt.figure(figsize=(12,10))\n",
    "plt.grid(True)\n",
    "plt.xlabel('Date')\n",
    "plt.ylabel('Close Prices')\n",
    "plt.plot(t1['Close'])\n",
    "plt.title('Closing price')\n",
    "plt.show()"
   ]
  },
  {
   "cell_type": "code",
   "execution_count": null,
   "id": "b55520a2",
   "metadata": {
    "execution": {
     "iopub.execute_input": "2022-10-16T16:23:11.172419Z",
     "iopub.status.busy": "2022-10-16T16:23:11.171948Z",
     "iopub.status.idle": "2022-10-16T16:23:11.507388Z",
     "shell.execute_reply": "2022-10-16T16:23:11.506359Z",
     "shell.execute_reply.started": "2022-10-16T16:23:11.172383Z"
    },
    "papermill": {
     "duration": null,
     "end_time": null,
     "exception": null,
     "start_time": null,
     "status": "pending"
    },
    "tags": []
   },
   "outputs": [],
   "source": [
    "#Distribution of the dataset\n",
    "df_close = t1['Close']\n",
    "df_close.plot(kind='kde')"
   ]
  },
  {
   "cell_type": "code",
   "execution_count": null,
   "id": "0e4f90a7",
   "metadata": {
    "execution": {
     "iopub.execute_input": "2022-10-16T16:23:11.509054Z",
     "iopub.status.busy": "2022-10-16T16:23:11.508718Z",
     "iopub.status.idle": "2022-10-16T16:23:12.027456Z",
     "shell.execute_reply": "2022-10-16T16:23:12.020726Z",
     "shell.execute_reply.started": "2022-10-16T16:23:11.509018Z"
    },
    "papermill": {
     "duration": null,
     "end_time": null,
     "exception": null,
     "start_time": null,
     "status": "pending"
    },
    "tags": []
   },
   "outputs": [],
   "source": [
    "#Test for stationarity\n",
    "def test_stationarity(timeseries):\n",
    "    #Determing rolling statistics\n",
    "    rolmean = timeseries.rolling(12).mean()\n",
    "    rolstd = timeseries.rolling(12).std()\n",
    "    #Plot rolling statistics:\n",
    "    plt.plot(timeseries, color='blue',label='Original')\n",
    "    plt.plot(rolmean, color='red', label='Rolling Mean')\n",
    "    plt.plot(rolstd, color='black', label = 'Rolling Std')\n",
    "    plt.legend(loc='best')\n",
    "    plt.title('Rolling Mean and Standard Deviation')\n",
    "    plt.show(block=False)\n",
    "    print(\"Results of dickey fuller test\")\n",
    "    adft = adfuller(timeseries,autolag='AIC')\n",
    "    output = pd.Series(adft[0:4],index=['Test Statistics','p-value','No. of lags used','Number of observations used'])\n",
    "    for key,values in adft[4].items():\n",
    "        output['critical value (%s)'%key] =  values\n",
    "    print(output)\n",
    "test_stationarity(df_close)"
   ]
  },
  {
   "cell_type": "code",
   "execution_count": null,
   "id": "58a60a65",
   "metadata": {
    "execution": {
     "iopub.execute_input": "2022-10-16T16:23:12.030028Z",
     "iopub.status.busy": "2022-10-16T16:23:12.029497Z",
     "iopub.status.idle": "2022-10-16T16:23:12.459885Z",
     "shell.execute_reply": "2022-10-16T16:23:12.458717Z",
     "shell.execute_reply.started": "2022-10-16T16:23:12.029966Z"
    },
    "papermill": {
     "duration": null,
     "end_time": null,
     "exception": null,
     "start_time": null,
     "status": "pending"
    },
    "tags": []
   },
   "outputs": [],
   "source": [
    "#if not stationary then eliminate trend\n",
    "#Eliminate trend\n",
    "from pylab import rcParams\n",
    "rcParams['figure.figsize'] = 10, 6\n",
    "df_log = np.log(df_close)\n",
    "moving_avg = df_log.rolling(12).mean()\n",
    "std_dev = df_log.rolling(12).std()\n",
    "plt.legend(loc='best')\n",
    "plt.title('Moving Average')\n",
    "plt.plot(std_dev, color =\"black\", label = \"Standard Deviation\")\n",
    "plt.plot(moving_avg, color=\"red\", label = \"Mean\")\n",
    "plt.legend()\n",
    "plt.show()\n"
   ]
  },
  {
   "cell_type": "code",
   "execution_count": null,
   "id": "82883e91",
   "metadata": {
    "execution": {
     "iopub.execute_input": "2022-10-16T16:23:12.462558Z",
     "iopub.status.busy": "2022-10-16T16:23:12.461546Z",
     "iopub.status.idle": "2022-10-16T16:23:12.903729Z",
     "shell.execute_reply": "2022-10-16T16:23:12.902742Z",
     "shell.execute_reply.started": "2022-10-16T16:23:12.462517Z"
    },
    "papermill": {
     "duration": null,
     "end_time": null,
     "exception": null,
     "start_time": null,
     "status": "pending"
    },
    "tags": []
   },
   "outputs": [],
   "source": [
    "#split data into train and training set\n",
    "train_data, test_data = df_log[3:int(len(df_log)*0.9)], df_log[int(len(df_log)*0.9):]\n",
    "plt.figure(figsize=(10,6))\n",
    "plt.grid(True)\n",
    "plt.xlabel('Dates')\n",
    "plt.ylabel('Closing Prices')\n",
    "plt.plot(df_log, 'green', label='Train data')\n",
    "plt.plot(test_data, 'blue', label='Test data')\n",
    "plt.legend()"
   ]
  },
  {
   "cell_type": "code",
   "execution_count": null,
   "id": "a0ecd438",
   "metadata": {
    "execution": {
     "iopub.execute_input": "2022-10-16T16:23:12.905130Z",
     "iopub.status.busy": "2022-10-16T16:23:12.904810Z",
     "iopub.status.idle": "2022-10-16T16:23:16.215263Z",
     "shell.execute_reply": "2022-10-16T16:23:16.214474Z",
     "shell.execute_reply.started": "2022-10-16T16:23:12.905101Z"
    },
    "papermill": {
     "duration": null,
     "end_time": null,
     "exception": null,
     "start_time": null,
     "status": "pending"
    },
    "tags": []
   },
   "outputs": [],
   "source": [
    "from pylab import rcParams\n",
    "rcParams['figure.figsize'] = 10, 6\n",
    "df_log = np.log(df_close)\n",
    "train_data, test_data = df_log[3:int(len(df_log)*0.9)], df_log[int(len(df_log)*0.9):]\n",
    "model_autoARIMA = auto_arima(train_data, start_p=0, start_q=0, test='adf',max_p=3, max_q=3, m=1, d=None, seasonal=False, start_P=0,D=0,trace=True,error_action='ignore', suppress_warnings=True, stepwise=True)\n",
    "print(model_autoARIMA.summary())\n",
    "model_autoARIMA.plot_diagnostics(figsize=(15,8))\n",
    "plt.show()"
   ]
  },
  {
   "cell_type": "code",
   "execution_count": null,
   "id": "f5b2184c",
   "metadata": {
    "execution": {
     "iopub.execute_input": "2022-10-16T16:23:16.216951Z",
     "iopub.status.busy": "2022-10-16T16:23:16.216449Z",
     "iopub.status.idle": "2022-10-16T16:23:16.221864Z",
     "shell.execute_reply": "2022-10-16T16:23:16.220746Z",
     "shell.execute_reply.started": "2022-10-16T16:23:16.216920Z"
    },
    "papermill": {
     "duration": null,
     "end_time": null,
     "exception": null,
     "start_time": null,
     "status": "pending"
    },
    "tags": []
   },
   "outputs": [],
   "source": [
    "#Modeling\n",
    "# Build Model\n",
    "import statsmodels.api as sm\n",
    "from statsmodels.tsa.arima.model import ARIMA\n",
    "\n"
   ]
  }
 ],
 "metadata": {
  "kernelspec": {
   "display_name": "Python 3",
   "language": "python",
   "name": "python3"
  },
  "language_info": {
   "codemirror_mode": {
    "name": "ipython",
    "version": 3
   },
   "file_extension": ".py",
   "mimetype": "text/x-python",
   "name": "python",
   "nbconvert_exporter": "python",
   "pygments_lexer": "ipython3",
   "version": "3.7.12"
  },
  "papermill": {
   "default_parameters": {},
   "duration": 133.250115,
   "end_time": "2022-10-16T16:39:43.148542",
   "environment_variables": {},
   "exception": true,
   "input_path": "__notebook__.ipynb",
   "output_path": "__notebook__.ipynb",
   "parameters": {},
   "start_time": "2022-10-16T16:37:29.898427",
   "version": "2.3.4"
  }
 },
 "nbformat": 4,
 "nbformat_minor": 5
}
